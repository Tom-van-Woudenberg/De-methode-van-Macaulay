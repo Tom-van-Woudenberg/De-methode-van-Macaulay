{
 "cells": [
  {
   "cell_type": "code",
   "execution_count": 1,
   "metadata": {},
   "outputs": [],
   "source": [
    "import sympy as sp\n",
    "import numpy as np\n",
    "from sympy import symbols\n",
    "sf = sp.SingularityFunction\n",
    "import matplotlib.pyplot as plt"
   ]
  },
  {
   "cell_type": "code",
   "execution_count": 2,
   "metadata": {},
   "outputs": [],
   "source": [
    "x = np.linspace(0, 4, 20)"
   ]
  },
  {
   "cell_type": "code",
   "execution_count": 3,
   "metadata": {},
   "outputs": [],
   "source": [
    "y = x**2\n",
    "hell = 2*x"
   ]
  },
  {
   "cell_type": "code",
   "execution_count": 4,
   "metadata": {},
   "outputs": [
    {
     "data": {
      "image/png": "[encoded data removed]",
      "text/plain": [
       "<Figure size 720x360 with 1 Axes>"
      ]
     },
     "metadata": {
      "needs_background": "light"
     },
     "output_type": "display_data"
    }
   ],
   "source": [
    "fig = plt.figure(figsize=(10, 5))\n",
    "plt.plot(x, y, label='constructiefunctie')\n",
    "plt.plot(x, hell, label=\"$theat$\")\n",
    "plt.legend()\n",
    "plt.savefig('gelobale theta', dpi=450);"
   ]
  },
  {
   "cell_type": "code",
   "execution_count": 5,
   "metadata": {},
   "outputs": [],
   "source": [
    "EI = symbols('EI')\n",
    "x = symbols('x')"
   ]
  },
  {
   "cell_type": "code",
   "execution_count": 6,
   "metadata": {},
   "outputs": [],
   "source": [
    "Cv, Cm, Cphi, Cw, Av, Bv, Ah, Cn = sp.symbols('Cv, Cm, Cphi, Cw, Av, Bv, Ah, Cn')\n",
    "\n",
    "# Define F and l\n",
    "F = 10  ## KN\n",
    "l = 4   ## m\n",
    "theta = x/10\n",
    "\n",
    "# Define qz and qx\n",
    "qz = -Av * sf(x, 0, -1) + F * sf(x, l/2, -1) - Bv * sf(x, l, -1)\n",
    "qx = Ah * sf(x, 0, -1)"
   ]
  },
  {
   "cell_type": "markdown",
   "metadata": {},
   "source": [
    "# Variant 1"
   ]
  },
  {
   "cell_type": "code",
   "execution_count": 7,
   "metadata": {},
   "outputs": [],
   "source": [
    "#V = sp.integrate(-qx * sp.sin(theta), x) + sp.integrate(-qz * sp.cos(theta), x) + Cv\n",
    "#N = sp.integrate(-qx * sp.cos(theta), x) + sp.integrate(qz * sp.sin(theta), x) + Cn\n",
    "#M = sp.integrate(V/sp.cos(theta), x) + Cm\n",
    "#phi = sp.integrate(M, x) + Cphi\n",
    "#W = sp.integrate(-phi, x) + Cw\n",
    "\n",
    "## Pyhton Reageert niet meer"
   ]
  },
  {
   "cell_type": "markdown",
   "metadata": {},
   "source": [
    "# Variant 2"
   ]
  },
  {
   "cell_type": "code",
   "execution_count": 8,
   "metadata": {},
   "outputs": [],
   "source": [
    "cos_theta = 1 - (theta**2/sp.factorial(2)) + (theta**4/sp.factorial(4)) - (theta**6/sp.factorial(6))\n",
    "sin_theta = theta - (theta**3/sp.factorial(3)) + (theta**5/sp.factorial(5)) - (theta**7/sp.factorial(7))"
   ]
  },
  {
   "cell_type": "code",
   "execution_count": 9,
   "metadata": {},
   "outputs": [],
   "source": [
    "#V = sp.integrate(-qx * sin_theta, x) + sp.integrate(-qz * cos_theta, x) + Cv\n",
    "#N = sp.integrate(-qx * cos_theta, x) + sp.integrate(qz * sin_theta, x) + Cn\n",
    "\n",
    "#M = sp.integrate(V/cos_theta, x) + Cm\n",
    "#phi = sp.integrate(M, x) + Cphi\n",
    "#W = sp.integrate(-phi, x) + Cw\n",
    "\n",
    "## python geeft een error bij het integreren"
   ]
  },
  {
   "cell_type": "markdown",
   "metadata": {},
   "source": [
    "# Variant 3"
   ]
  },
  {
   "cell_type": "code",
   "execution_count": 10,
   "metadata": {},
   "outputs": [],
   "source": [
    "#V = sp.integrate(-qx , x) * sp.integrate(sp.sin(theta), x) + sp.integrate(-qz, x)* sp.integrate(sp.cos(theta), x) + Cv\n",
    "#N = sp.integrate(-qx, x)* sp.integrate(sp.cos(theta), x) + sp.integrate(qz, x) * sp.integrate(sp.sin(theta), x) + Cn\n",
    "#M = sp.integrate(V, x) / (sp.integrate(sp.cos(theta), x)) + Cm\n",
    "#phi = sp.integrate(M, x) + Cphi\n",
    "#W = sp.integrate(-phi, x) + Cw"
   ]
  },
  {
   "cell_type": "markdown",
   "metadata": {},
   "source": [
    "# Variant 4"
   ]
  },
  {
   "cell_type": "code",
   "execution_count": 11,
   "metadata": {},
   "outputs": [],
   "source": [
    "#V = sp.integrate(-qx , x) * sp.integrate(sin_theta, x) + sp.integrate(-qz, x)* sp.integrate(cos_theta, x) + Cv\n",
    "#N = sp.integrate(-qx, x)* sp.integrate(cos_theta, x) + sp.integrate(qz, x) * sp.integrate(sin_theta, x) + Cn\n",
    "#M = sp.integrate(V, x) / (sp.integrate(cos_theta, x)) + Cm\n",
    "#phi = sp.integrate(M, x) + Cphi\n",
    "#W = sp.integrate(-phi, x) + Cw"
   ]
  },
  {
   "cell_type": "code",
   "execution_count": 14,
   "metadata": {},
   "outputs": [],
   "source": []
  },
  {
   "cell_type": "code",
   "execution_count": 18,
   "metadata": {},
   "outputs": [
    {
     "data": {
      "text/plain": [
       "[<matplotlib.lines.Line2D at 0x203dd3292e0>]"
      ]
     },
     "execution_count": 18,
     "metadata": {},
     "output_type": "execute_result"
    },
    {
     "data": {
      "image/png": "[encoded data removed]",
      "text/plain": [
       "<Figure size 432x288 with 1 Axes>"
      ]
     },
     "metadata": {
      "needs_background": "light"
     },
     "output_type": "display_data"
    }
   ],
   "source": []
  },
  {
   "cell_type": "code",
   "execution_count": null,
   "metadata": {},
   "outputs": [],
   "source": []
  }
 ],
 "metadata": {
  "kernelspec": {
   "display_name": "Python 3",
   "language": "python",
   "name": "python3"
  },
  "language_info": {
   "codemirror_mode": {
    "name": "ipython",
    "version": 3
   },
   "file_extension": ".py",
   "mimetype": "text/x-python",
   "name": "python",
   "nbconvert_exporter": "python",
   "pygments_lexer": "ipython3",
   "version": "3.8.3"
  }
 },
 "nbformat": 4,
 "nbformat_minor": 4
}
