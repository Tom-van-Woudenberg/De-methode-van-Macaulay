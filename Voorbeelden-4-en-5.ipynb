{
 "cells": [
  {
   "cell_type": "code",
   "execution_count": 1,
   "metadata": {},
   "outputs": [],
   "source": [
    "import sympy as sp\n",
    "import numpy as np\n",
    "from sympy import symbols\n",
    "sf = sp.SingularityFunction\n",
    "import matplotlib.pyplot as plt"
   ]
  },
  {
   "cell_type": "markdown",
   "metadata": {},
   "source": [
    "# kromme ligger voorbeeld 1"
   ]
  },
  {
   "cell_type": "code",
   "execution_count": 2,
   "metadata": {},
   "outputs": [
    {
     "name": "stdout",
     "output_type": "stream",
     "text": [
      "0.007259528130671506\n"
     ]
    }
   ],
   "source": [
    "l = 4\n",
    "x = np.linspace(0, l, 552)\n",
    "dx = (x[1]-x[0])\n",
    "print(dx)"
   ]
  },
  {
   "cell_type": "code",
   "execution_count": 3,
   "metadata": {},
   "outputs": [],
   "source": [
    "y = x**2/ 20\n",
    "#print(y)"
   ]
  },
  {
   "cell_type": "code",
   "execution_count": 4,
   "metadata": {},
   "outputs": [],
   "source": [
    "dy = []\n",
    "for i in range(len(y)):\n",
    "    dy.append(y[i] - y[i-1])"
   ]
  },
  {
   "cell_type": "code",
   "execution_count": 5,
   "metadata": {},
   "outputs": [],
   "source": [
    "theta = np.arctan(dy/dx)"
   ]
  },
  {
   "cell_type": "code",
   "execution_count": 6,
   "metadata": {},
   "outputs": [],
   "source": [
    "cos = np.cos(theta)[1:]\n",
    "sin = np.sin(theta)[1:]"
   ]
  },
  {
   "cell_type": "code",
   "execution_count": 7,
   "metadata": {},
   "outputs": [],
   "source": [
    "E, I = symbols('E, I')\n",
    "x = symbols('x')"
   ]
  },
  {
   "cell_type": "code",
   "execution_count": 8,
   "metadata": {},
   "outputs": [],
   "source": [
    "## Voorbeeld 1: opgelegd op twee steunpunten\n",
    "\n",
    "Cv, Cm, Cphi, Cw, Av, Bv, Ah, Cn, theta = sp.symbols('Cv, Cm, Cphi, Cw, Av, Bv, Ah, Cn, theta')\n",
    "# Define F and l\n",
    "F = 10  ## KN\n",
    "\n",
    "# Define qz and qx\n",
    "qz = -Av * sf(x, 0, -1) + F * sf(x, l/2, -1) - Bv * sf(x, l, -1)\n",
    "qx = +Ah * sf(x, 0, -1)"
   ]
  },
  {
   "cell_type": "code",
   "execution_count": 9,
   "metadata": {},
   "outputs": [
    {
     "data": {
      "text/plain": [
       "'V:'"
      ]
     },
     "metadata": {},
     "output_type": "display_data"
    },
    {
     "data": {
      "text/latex": [
       "$\\displaystyle - Ah \\sin{\\left(\\theta \\right)} {\\left\\langle x \\right\\rangle}^{0} + Cv + \\left(Av {\\left\\langle x \\right\\rangle}^{0} + Bv {\\left\\langle x - 4 \\right\\rangle}^{0} - 10 {\\left\\langle x - 2.0 \\right\\rangle}^{0}\\right) \\cos{\\left(\\theta \\right)}$"
      ],
      "text/plain": [
       "-Ah*sin(theta)*SingularityFunction(x, 0, 0) + Cv + (Av*SingularityFunction(x, 0, 0) + Bv*SingularityFunction(x, 4, 0) - 10*SingularityFunction(x, 2.0, 0))*cos(theta)"
      ]
     },
     "metadata": {},
     "output_type": "display_data"
    },
    {
     "data": {
      "text/plain": [
       "'M:'"
      ]
     },
     "metadata": {},
     "output_type": "display_data"
    },
    {
     "data": {
      "text/latex": [
       "$\\displaystyle Cm + \\frac{- Ah \\sin{\\left(\\theta \\right)} {\\left\\langle x \\right\\rangle}^{1} + Cv x + \\left(Av {\\left\\langle x \\right\\rangle}^{1} + Bv {\\left\\langle x - 4 \\right\\rangle}^{1} - 10 {\\left\\langle x - 2.0 \\right\\rangle}^{1}\\right) \\cos{\\left(\\theta \\right)}}{\\cos{\\left(\\theta \\right)}}$"
      ],
      "text/plain": [
       "Cm + (-Ah*sin(theta)*SingularityFunction(x, 0, 1) + Cv*x + (Av*SingularityFunction(x, 0, 1) + Bv*SingularityFunction(x, 4, 1) - 10*SingularityFunction(x, 2.0, 1))*cos(theta))/cos(theta)"
      ]
     },
     "metadata": {},
     "output_type": "display_data"
    },
    {
     "data": {
      "text/plain": [
       "'phi:'"
      ]
     },
     "metadata": {},
     "output_type": "display_data"
    },
    {
     "data": {
      "text/latex": [
       "$\\displaystyle Cm x + Cphi + \\frac{- \\frac{Ah \\sin{\\left(\\theta \\right)} {\\left\\langle x \\right\\rangle}^{2}}{2} + \\frac{Av \\cos{\\left(\\theta \\right)} {\\left\\langle x \\right\\rangle}^{2}}{2} + \\frac{Bv \\cos{\\left(\\theta \\right)} {\\left\\langle x - 4 \\right\\rangle}^{2}}{2} + \\frac{Cv x^{2}}{2} - 5 \\cos{\\left(\\theta \\right)} {\\left\\langle x - 2.0 \\right\\rangle}^{2}}{\\cos{\\left(\\theta \\right)}}$"
      ],
      "text/plain": [
       "Cm*x + Cphi + (-Ah*sin(theta)*SingularityFunction(x, 0, 2)/2 + Av*cos(theta)*SingularityFunction(x, 0, 2)/2 + Bv*cos(theta)*SingularityFunction(x, 4, 2)/2 + Cv*x**2/2 - 5*cos(theta)*SingularityFunction(x, 2.0, 2))/cos(theta)"
      ]
     },
     "metadata": {},
     "output_type": "display_data"
    },
    {
     "data": {
      "text/plain": [
       "'W:'"
      ]
     },
     "metadata": {},
     "output_type": "display_data"
    },
    {
     "data": {
      "text/latex": [
       "$\\displaystyle - \\frac{Cm x^{2}}{2} - Cphi x + Cw - \\frac{- \\frac{Ah \\sin{\\left(\\theta \\right)} {\\left\\langle x \\right\\rangle}^{3}}{6} + \\frac{Av \\cos{\\left(\\theta \\right)} {\\left\\langle x \\right\\rangle}^{3}}{6} + \\frac{Bv \\cos{\\left(\\theta \\right)} {\\left\\langle x - 4 \\right\\rangle}^{3}}{6} + \\frac{Cv x^{3}}{6} - \\frac{5 \\cos{\\left(\\theta \\right)} {\\left\\langle x - 2.0 \\right\\rangle}^{3}}{3}}{\\cos{\\left(\\theta \\right)}}$"
      ],
      "text/plain": [
       "-Cm*x**2/2 - Cphi*x + Cw - (-Ah*sin(theta)*SingularityFunction(x, 0, 3)/6 + Av*cos(theta)*SingularityFunction(x, 0, 3)/6 + Bv*cos(theta)*SingularityFunction(x, 4, 3)/6 + Cv*x**3/6 - 5*cos(theta)*SingularityFunction(x, 2.0, 3)/3)/cos(theta)"
      ]
     },
     "metadata": {},
     "output_type": "display_data"
    },
    {
     "data": {
      "text/latex": [
       "$\\displaystyle - Ah \\cos{\\left(\\theta \\right)} {\\left\\langle x \\right\\rangle}^{0} + Cn + \\left(- Av {\\left\\langle x \\right\\rangle}^{0} - Bv {\\left\\langle x - 4 \\right\\rangle}^{0} + 10 {\\left\\langle x - 2.0 \\right\\rangle}^{0}\\right) \\sin{\\left(\\theta \\right)}$"
      ],
      "text/plain": [
       "-Ah*cos(theta)*SingularityFunction(x, 0, 0) + Cn + (-Av*SingularityFunction(x, 0, 0) - Bv*SingularityFunction(x, 4, 0) + 10*SingularityFunction(x, 2.0, 0))*sin(theta)"
      ]
     },
     "metadata": {},
     "output_type": "display_data"
    }
   ],
   "source": [
    "# Define V as a function of x\n",
    "V = sp.sin(theta) * sp.integrate(-qx, x) + sp.cos(theta) * sp.integrate(-qz, x) + Cv\n",
    "# N definiëren als een functie van x\n",
    "N = sp.cos(theta) * sp.integrate(-qx, x) + sp.sin(theta) * sp.integrate(qz, x) + Cn\n",
    "\n",
    "# N definiëren als een functie van x\n",
    "M = sp.integrate(V, x) / sp.cos(theta) + Cm\n",
    "\n",
    "# Define phi as an integral of M\n",
    "phi = sp.integrate(M, x) + Cphi\n",
    "\n",
    "# Define W as an integral of -phi\n",
    "W = sp.integrate(-phi, x) + Cw\n",
    "\n",
    "\n",
    "# Display the expressions\n",
    "display(\"V:\", V)\n",
    "display(\"M:\", M)\n",
    "display(\"phi:\", phi)\n",
    "display(\"W:\", W)\n",
    "display( N)"
   ]
  },
  {
   "cell_type": "code",
   "execution_count": 10,
   "metadata": {},
   "outputs": [],
   "source": [
    "eq1 = V.subs(x, -1)\n",
    "eq2 = V.subs(x, l+1) \n",
    "\n",
    "eq3 = M.subs(x, 0)\n",
    "eq4 = M.subs(x, l)\n",
    "\n",
    "eq5 = W.subs(x, l)\n",
    "eq6 = W.subs(x, 0)\n",
    "eq7 = N.subs(x, -1)\n",
    "eq8 = N.subs(x, l+1)\n",
    "equations = [eq1 -0, eq2-0,eq3-0,eq4-0,eq5-0,eq6-0, eq7-0, eq8 -0]\n",
    "solutions = sp.solve(equations, (Cv, Cm, Cphi, Cw, Av, Bv, Ah, Cn))"
   ]
  },
  {
   "cell_type": "code",
   "execution_count": 11,
   "metadata": {},
   "outputs": [
    {
     "name": "stdout",
     "output_type": "stream",
     "text": [
      "{Cv: 0.0, Cm: 0.0, Cphi: -10.0000000000000, Cw: 0.0, Av: 5.00000000000000, Bv: 5.00000000000000, Ah: 0.0, Cn: 0.0}\n"
     ]
    }
   ],
   "source": [
    "print(solutions)"
   ]
  },
  {
   "cell_type": "code",
   "execution_count": 12,
   "metadata": {},
   "outputs": [],
   "source": [
    "Cv= 0.0\n",
    "Cm= 0.0\n",
    "Cphi= -10\n",
    "Cw= 0.0, \n",
    "Av= 5.00000000000000\n",
    "Bv= 5.00000000000000\n",
    "Ah= 0.0\n",
    "Cn= 0.0"
   ]
  },
  {
   "cell_type": "code",
   "execution_count": 13,
   "metadata": {},
   "outputs": [
    {
     "data": {
      "text/latex": [
       "$\\displaystyle - Ah \\sin{\\left(\\theta \\right)} {\\left\\langle x \\right\\rangle}^{0} + Cv + \\left(Av {\\left\\langle x \\right\\rangle}^{0} + Bv {\\left\\langle x - 4 \\right\\rangle}^{0} - 10 {\\left\\langle x - 2.0 \\right\\rangle}^{0}\\right) \\cos{\\left(\\theta \\right)}$"
      ],
      "text/plain": [
       "-Ah*sin(theta)*SingularityFunction(x, 0, 0) + Cv + (Av*SingularityFunction(x, 0, 0) + Bv*SingularityFunction(x, 4, 0) - 10*SingularityFunction(x, 2.0, 0))*cos(theta)"
      ]
     },
     "metadata": {},
     "output_type": "display_data"
    }
   ],
   "source": [
    "display(V)"
   ]
  },
  {
   "cell_type": "code",
   "execution_count": 14,
   "metadata": {},
   "outputs": [],
   "source": [
    "x_val = np.linspace(0, l, 550)\n",
    "V_list = []\n",
    "for i in range(len(x_val)):\n",
    "    V_list.append((Av*sf(x_val[i], 0, 0)+ Bv*sf(x_val[i], 4, 0) - 10*sf(x_val[i], 2, 0)) * cos[i])"
   ]
  },
  {
   "cell_type": "code",
   "execution_count": 15,
   "metadata": {},
   "outputs": [
    {
     "data": {
      "image/png": "[encoded data removed]",
      "text/plain": [
       "<Figure size 720x360 with 1 Axes>"
      ]
     },
     "metadata": {
      "needs_background": "light"
     },
     "output_type": "display_data"
    }
   ],
   "source": [
    "fig = plt.figure(figsize=(10,5))\n",
    "ax = fig.add_subplot(1, 1, 1)\n",
    "ax.set_ylim(-6, 6)\n",
    "ax.set_xlim(0, 4.2)\n",
    "\n",
    "ax.spines[\"left\"].set_position(\"zero\")\n",
    "ax.spines[\"right\"].set_visible(False)\n",
    "ax.spines[\"bottom\"].set_position(\"zero\")\n",
    "ax.spines[\"top\"].set_visible(False)\n",
    "\n",
    "\n",
    "ax.set_xlabel(\"$V-lijn$\")\n",
    "ax.xaxis.set_label_coords(0.53, 1.04)\n",
    "plt.gca()\n",
    "ax.plot(x_val/cos[316], np.array(V_list), label='V-lijn')\n",
    "ax.legend();\n",
    "x_val[-1]/cos[316] #De lengte van de kromme ligger. \n",
    "plt.savefig('V_par_lijnvoorbeeld1', dpi=450);"
   ]
  },
  {
   "cell_type": "code",
   "execution_count": 16,
   "metadata": {},
   "outputs": [
    {
     "data": {
      "text/latex": [
       "$\\displaystyle - Ah \\cos{\\left(\\theta \\right)} {\\left\\langle x \\right\\rangle}^{0} + Cn + \\left(- Av {\\left\\langle x \\right\\rangle}^{0} - Bv {\\left\\langle x - 4 \\right\\rangle}^{0} + 10 {\\left\\langle x - 2.0 \\right\\rangle}^{0}\\right) \\sin{\\left(\\theta \\right)}$"
      ],
      "text/plain": [
       "-Ah*cos(theta)*SingularityFunction(x, 0, 0) + Cn + (-Av*SingularityFunction(x, 0, 0) - Bv*SingularityFunction(x, 4, 0) + 10*SingularityFunction(x, 2.0, 0))*sin(theta)"
      ]
     },
     "metadata": {},
     "output_type": "display_data"
    }
   ],
   "source": [
    "display(N)"
   ]
  },
  {
   "cell_type": "code",
   "execution_count": 17,
   "metadata": {},
   "outputs": [],
   "source": [
    "x_val = np.linspace(0, l, 550)\n",
    "N_list = []\n",
    "for i in range(len(x_val)):\n",
    "    N_list.append((-Av*sf(x_val[i], 0,0) -Bv*sf(x_val[i],4,0)+ 10*sf(x_val[i], 2, 0)) * sin[i])\n",
    "#print(N_list)"
   ]
  },
  {
   "cell_type": "code",
   "execution_count": 18,
   "metadata": {},
   "outputs": [
    {
     "data": {
      "image/png": "[encoded data removed]",
      "text/plain": [
       "<Figure size 720x360 with 1 Axes>"
      ]
     },
     "metadata": {
      "needs_background": "light"
     },
     "output_type": "display_data"
    }
   ],
   "source": [
    "fig = plt.figure(figsize=(10,5))\n",
    "ax = fig.add_subplot(1, 1, 1)\n",
    "ax.set_ylim(-2, 4)\n",
    "ax.set_xlim(0, 4.2)\n",
    "\n",
    "ax.spines[\"left\"].set_position(\"zero\")\n",
    "ax.spines[\"right\"].set_visible(False)\n",
    "ax.spines[\"bottom\"].set_position(\"zero\")\n",
    "ax.spines[\"top\"].set_visible(False)\n",
    "\n",
    "\n",
    "ax.set_xlabel(\"$N-lijn$\")\n",
    "ax.xaxis.set_label_coords(0.53, 1.04)\n",
    "plt.gca()\n",
    "ax.plot(x_val/cos[316], np.array(N_list), label='N-lijn')\n",
    "ax.legend()\n",
    "plt.savefig('N_par_lijnvoorbeeld1', dpi=450);"
   ]
  },
  {
   "cell_type": "code",
   "execution_count": 19,
   "metadata": {},
   "outputs": [],
   "source": [
    "x_val = np.linspace(0, 4, 550)\n",
    "M_list = []\n",
    "for i in x_val:\n",
    "    M_list.append((Av * sf(i, 0, 1) - F * sf(i, l/2, 1) + Bv * sf(i, l, 1)))\n",
    "#display(M)"
   ]
  },
  {
   "cell_type": "code",
   "execution_count": 20,
   "metadata": {},
   "outputs": [
    {
     "data": {
      "image/png": "[encoded data removed]",
      "text/plain": [
       "<Figure size 720x360 with 1 Axes>"
      ]
     },
     "metadata": {
      "needs_background": "light"
     },
     "output_type": "display_data"
    }
   ],
   "source": [
    "fig = plt.figure(figsize=(10,5))\n",
    "ax = fig.add_subplot(1, 1, 1)\n",
    "ax.set_xlim(0, 4.2)\n",
    "ax.set_ylim(-11, 3)\n",
    "\n",
    "ax.spines[\"left\"].set_position(\"zero\")\n",
    "ax.spines[\"right\"].set_visible(False)\n",
    "ax.spines[\"bottom\"].set_position(\"zero\")\n",
    "ax.spines[\"top\"].set_visible(False)\n",
    "\n",
    "\n",
    "ax.set_xlabel(\"$M-lijn$\")\n",
    "ax.xaxis.set_label_coords(0.53, 1.04)\n",
    "plt.gca()\n",
    "ax.plot(x_val/cos[316], -np.array(M_list) , label='M-lijn')\n",
    "ax.legend()\n",
    "plt.savefig('M_par_lijnvoorbeeld1', dpi=450);"
   ]
  },
  {
   "cell_type": "code",
   "execution_count": 21,
   "metadata": {},
   "outputs": [],
   "source": [
    "x_val = np.linspace(0, l, 550)\n",
    "phi_list = []\n",
    "for i in x_val:\n",
    "    phi_list.append((Av/2) * sf(i, 0, 2) - (F/2) * sf(i, l/2, 2) + (Bv/2) * sf(i, l, 2) + Cphi)"
   ]
  },
  {
   "cell_type": "code",
   "execution_count": 22,
   "metadata": {},
   "outputs": [
    {
     "data": {
      "image/png": "[encoded data removed]",
      "text/plain": [
       "<Figure size 720x360 with 1 Axes>"
      ]
     },
     "metadata": {
      "needs_background": "light"
     },
     "output_type": "display_data"
    }
   ],
   "source": [
    "fig = plt.figure(figsize=(10,5))\n",
    "ax = fig.add_subplot(1, 1, 1)\n",
    "ax.set_xlim(0, 4.2)\n",
    "ax.set_ylim(-11, 12)\n",
    "\n",
    "ax.spines[\"left\"].set_position(\"zero\")\n",
    "ax.spines[\"right\"].set_visible(False)\n",
    "ax.spines[\"bottom\"].set_position(\"zero\")\n",
    "ax.spines[\"top\"].set_visible(False)\n",
    "\n",
    "\n",
    "ax.set_xlabel(\"$phi-lijn$\")\n",
    "ax.xaxis.set_label_coords(0.53, 1.04)\n",
    "plt.gca()\n",
    "ax.plot(x_val/cos[316], np.array(phi_list), label='phi-lijn')\n",
    "ax.legend()\n",
    "plt.savefig('phi_par_lijnvoorbeeld1', dpi=450);"
   ]
  },
  {
   "cell_type": "code",
   "execution_count": 23,
   "metadata": {},
   "outputs": [],
   "source": [
    "x_val = np.linspace(0, l, 550)\n",
    "W_list = []\n",
    "for i in x_val:\n",
    "    W_list.append((-Av/6) * sf(i, 0, 3) + (F/6) * sf(i, l/2, 3) + (Bv/6) * sf(i, l, 3) - Cphi*i)"
   ]
  },
  {
   "cell_type": "code",
   "execution_count": 24,
   "metadata": {},
   "outputs": [
    {
     "data": {
      "image/png": "[encoded data removed]",
      "text/plain": [
       "<Figure size 720x360 with 1 Axes>"
      ]
     },
     "metadata": {
      "needs_background": "light"
     },
     "output_type": "display_data"
    }
   ],
   "source": [
    "fig = plt.figure(figsize=(10, 5))\n",
    "ax = fig.add_subplot(1, 1, 1)\n",
    "ax.set_xlim(0, 4.2)\n",
    "ax.set_ylim(-14, 3)\n",
    "\n",
    "ax.spines[\"left\"].set_position(\"zero\")\n",
    "ax.spines[\"right\"].set_visible(False)\n",
    "ax.spines[\"bottom\"].set_position(\"zero\")\n",
    "ax.spines[\"top\"].set_visible(False)\n",
    "\n",
    "\n",
    "ax.set_xlabel(\"$W-lijn$\")\n",
    "ax.xaxis.set_label_coords(0.53, 1.04)\n",
    "plt.gca()\n",
    "ax.plot(x_val/cos[316], - np.array(W_list), label='W-lijn')\n",
    "plt.savefig('W_par_lijnvoorbeeld1', dpi=450);"
   ]
  },
  {
   "cell_type": "markdown",
   "metadata": {},
   "source": [
    "# Kromme ligger voorbeeld 2"
   ]
  },
  {
   "cell_type": "code",
   "execution_count": 25,
   "metadata": {},
   "outputs": [
    {
     "name": "stdout",
     "output_type": "stream",
     "text": [
      "0.007259528130671506\n"
     ]
    }
   ],
   "source": [
    "l = 4\n",
    "x = np.linspace(0, l, 552)\n",
    "dx = (x[1]-x[0])\n",
    "print(dx)"
   ]
  },
  {
   "cell_type": "code",
   "execution_count": 26,
   "metadata": {},
   "outputs": [],
   "source": [
    "y = x**2/ 4\n",
    "#print(y)"
   ]
  },
  {
   "cell_type": "code",
   "execution_count": 27,
   "metadata": {},
   "outputs": [],
   "source": [
    "dy = []\n",
    "for i in range(len(y)):\n",
    "    dy.append(y[i] - y[i-1])"
   ]
  },
  {
   "cell_type": "code",
   "execution_count": 28,
   "metadata": {},
   "outputs": [],
   "source": [
    "theta = np.arctan(dy/dx)"
   ]
  },
  {
   "cell_type": "code",
   "execution_count": 29,
   "metadata": {},
   "outputs": [],
   "source": [
    "cos = np.cos(theta)[1:]\n",
    "sin = np.sin(theta)[1:]"
   ]
  },
  {
   "cell_type": "code",
   "execution_count": 30,
   "metadata": {},
   "outputs": [],
   "source": [
    "E, I = symbols('E, I')\n",
    "x = symbols('x')"
   ]
  },
  {
   "cell_type": "code",
   "execution_count": 31,
   "metadata": {},
   "outputs": [],
   "source": [
    "## Voorbeeld 1: opgelegd op twee steunpunten\n",
    "\n",
    "Cv, Cm, Cphi, Cw, Av, Bv, Ah, Cn, theta = sp.symbols('Cv, Cm, Cphi, Cw, Av, Bv, Ah, Cn, theta')\n",
    "# Define F and l\n",
    "F = 10  ## KN\n",
    "\n",
    "# Define qz and qx\n",
    "qz = -Av * sf(x, 0, -1) + F * sf(x, l/2, -1) - Bv * sf(x, l, -1)\n",
    "qx = +Ah * sf(x, 0, -1)"
   ]
  },
  {
   "cell_type": "code",
   "execution_count": 32,
   "metadata": {},
   "outputs": [
    {
     "data": {
      "text/plain": [
       "'V:'"
      ]
     },
     "metadata": {},
     "output_type": "display_data"
    },
    {
     "data": {
      "text/latex": [
       "$\\displaystyle - Ah \\sin{\\left(\\theta \\right)} {\\left\\langle x \\right\\rangle}^{0} + Cv + \\left(Av {\\left\\langle x \\right\\rangle}^{0} + Bv {\\left\\langle x - 4 \\right\\rangle}^{0} - 10 {\\left\\langle x - 2.0 \\right\\rangle}^{0}\\right) \\cos{\\left(\\theta \\right)}$"
      ],
      "text/plain": [
       "-Ah*sin(theta)*SingularityFunction(x, 0, 0) + Cv + (Av*SingularityFunction(x, 0, 0) + Bv*SingularityFunction(x, 4, 0) - 10*SingularityFunction(x, 2.0, 0))*cos(theta)"
      ]
     },
     "metadata": {},
     "output_type": "display_data"
    },
    {
     "data": {
      "text/plain": [
       "'M:'"
      ]
     },
     "metadata": {},
     "output_type": "display_data"
    },
    {
     "data": {
      "text/latex": [
       "$\\displaystyle Cm + \\frac{- Ah \\sin{\\left(\\theta \\right)} {\\left\\langle x \\right\\rangle}^{1} + Cv x + \\left(Av {\\left\\langle x \\right\\rangle}^{1} + Bv {\\left\\langle x - 4 \\right\\rangle}^{1} - 10 {\\left\\langle x - 2.0 \\right\\rangle}^{1}\\right) \\cos{\\left(\\theta \\right)}}{\\cos{\\left(\\theta \\right)}}$"
      ],
      "text/plain": [
       "Cm + (-Ah*sin(theta)*SingularityFunction(x, 0, 1) + Cv*x + (Av*SingularityFunction(x, 0, 1) + Bv*SingularityFunction(x, 4, 1) - 10*SingularityFunction(x, 2.0, 1))*cos(theta))/cos(theta)"
      ]
     },
     "metadata": {},
     "output_type": "display_data"
    },
    {
     "data": {
      "text/plain": [
       "'phi:'"
      ]
     },
     "metadata": {},
     "output_type": "display_data"
    },
    {
     "data": {
      "text/latex": [
       "$\\displaystyle Cm x + Cphi + \\frac{- \\frac{Ah \\sin{\\left(\\theta \\right)} {\\left\\langle x \\right\\rangle}^{2}}{2} + \\frac{Av \\cos{\\left(\\theta \\right)} {\\left\\langle x \\right\\rangle}^{2}}{2} + \\frac{Bv \\cos{\\left(\\theta \\right)} {\\left\\langle x - 4 \\right\\rangle}^{2}}{2} + \\frac{Cv x^{2}}{2} - 5 \\cos{\\left(\\theta \\right)} {\\left\\langle x - 2.0 \\right\\rangle}^{2}}{\\cos{\\left(\\theta \\right)}}$"
      ],
      "text/plain": [
       "Cm*x + Cphi + (-Ah*sin(theta)*SingularityFunction(x, 0, 2)/2 + Av*cos(theta)*SingularityFunction(x, 0, 2)/2 + Bv*cos(theta)*SingularityFunction(x, 4, 2)/2 + Cv*x**2/2 - 5*cos(theta)*SingularityFunction(x, 2.0, 2))/cos(theta)"
      ]
     },
     "metadata": {},
     "output_type": "display_data"
    },
    {
     "data": {
      "text/plain": [
       "'W:'"
      ]
     },
     "metadata": {},
     "output_type": "display_data"
    },
    {
     "data": {
      "text/latex": [
       "$\\displaystyle - \\frac{Cm x^{2}}{2} - Cphi x + Cw - \\frac{- \\frac{Ah \\sin{\\left(\\theta \\right)} {\\left\\langle x \\right\\rangle}^{3}}{6} + \\frac{Av \\cos{\\left(\\theta \\right)} {\\left\\langle x \\right\\rangle}^{3}}{6} + \\frac{Bv \\cos{\\left(\\theta \\right)} {\\left\\langle x - 4 \\right\\rangle}^{3}}{6} + \\frac{Cv x^{3}}{6} - \\frac{5 \\cos{\\left(\\theta \\right)} {\\left\\langle x - 2.0 \\right\\rangle}^{3}}{3}}{\\cos{\\left(\\theta \\right)}}$"
      ],
      "text/plain": [
       "-Cm*x**2/2 - Cphi*x + Cw - (-Ah*sin(theta)*SingularityFunction(x, 0, 3)/6 + Av*cos(theta)*SingularityFunction(x, 0, 3)/6 + Bv*cos(theta)*SingularityFunction(x, 4, 3)/6 + Cv*x**3/6 - 5*cos(theta)*SingularityFunction(x, 2.0, 3)/3)/cos(theta)"
      ]
     },
     "metadata": {},
     "output_type": "display_data"
    },
    {
     "data": {
      "text/latex": [
       "$\\displaystyle - Ah \\cos{\\left(\\theta \\right)} {\\left\\langle x \\right\\rangle}^{0} + Cn + \\left(- Av {\\left\\langle x \\right\\rangle}^{0} - Bv {\\left\\langle x - 4 \\right\\rangle}^{0} + 10 {\\left\\langle x - 2.0 \\right\\rangle}^{0}\\right) \\sin{\\left(\\theta \\right)}$"
      ],
      "text/plain": [
       "-Ah*cos(theta)*SingularityFunction(x, 0, 0) + Cn + (-Av*SingularityFunction(x, 0, 0) - Bv*SingularityFunction(x, 4, 0) + 10*SingularityFunction(x, 2.0, 0))*sin(theta)"
      ]
     },
     "metadata": {},
     "output_type": "display_data"
    }
   ],
   "source": [
    "# Define V as a function of x\n",
    "V = sp.sin(theta) * sp.integrate(-qx, x) + sp.cos(theta) * sp.integrate(-qz, x) + Cv\n",
    "# N definiëren als een functie van x\n",
    "N = sp.cos(theta) * sp.integrate(-qx, x) + sp.sin(theta) * sp.integrate(qz, x) + Cn\n",
    "\n",
    "# N definiëren als een functie van x\n",
    "M = sp.integrate(V, x) / sp.cos(theta) + Cm\n",
    "\n",
    "# Define phi as an integral of M\n",
    "phi = sp.integrate(M, x) + Cphi\n",
    "\n",
    "# Define W as an integral of -phi\n",
    "W = sp.integrate(-phi, x) + Cw\n",
    "\n",
    "\n",
    "# Display the expressions\n",
    "display(\"V:\", V)\n",
    "display(\"M:\", M)\n",
    "display(\"phi:\", phi)\n",
    "display(\"W:\", W)\n",
    "display( N)"
   ]
  },
  {
   "cell_type": "code",
   "execution_count": 33,
   "metadata": {},
   "outputs": [],
   "source": [
    "eq1 = V.subs(x, -1)\n",
    "eq2 = V.subs(x, l+1) \n",
    "\n",
    "eq3 = M.subs(x, 0)\n",
    "eq4 = M.subs(x, l)\n",
    "\n",
    "eq5 = W.subs(x, l)\n",
    "eq6 = W.subs(x, 0)\n",
    "eq7 = N.subs(x, -1)\n",
    "eq8 = N.subs(x, l+1)\n",
    "equations = [eq1 -0, eq2-0,eq3-0,eq4-0,eq5-0,eq6-0, eq7-0, eq8 -0]\n",
    "solutions = sp.solve(equations, (Cv, Cm, Cphi, Cw, Av, Bv, Ah, Cn))"
   ]
  },
  {
   "cell_type": "code",
   "execution_count": 34,
   "metadata": {},
   "outputs": [
    {
     "name": "stdout",
     "output_type": "stream",
     "text": [
      "{Cv: 0.0, Cm: 0.0, Cphi: -10.0000000000000, Cw: 0.0, Av: 5.00000000000000, Bv: 5.00000000000000, Ah: 0.0, Cn: 0.0}\n"
     ]
    }
   ],
   "source": [
    "print(solutions)"
   ]
  },
  {
   "cell_type": "code",
   "execution_count": 35,
   "metadata": {},
   "outputs": [],
   "source": [
    "Cv= 0.0\n",
    "Cm= 0.0\n",
    "Cphi= -10\n",
    "Cw= 0.0, \n",
    "Av= 5.00000000000000\n",
    "Bv= 5.00000000000000\n",
    "Ah= 0.0\n",
    "Cn= 0.0"
   ]
  },
  {
   "cell_type": "code",
   "execution_count": 36,
   "metadata": {},
   "outputs": [],
   "source": [
    "x_val = np.linspace(0, l, 550)\n",
    "V_list = []\n",
    "for i in range(len(x_val)):\n",
    "    V_list.append((Av*sf(x_val[i], 0, 0)+ Bv*sf(x_val[i], 4, 0) - 10*sf(x_val[i], 2, 0)) * cos[i])\n",
    "#print(V_list)"
   ]
  },
  {
   "cell_type": "code",
   "execution_count": 37,
   "metadata": {},
   "outputs": [
    {
     "data": {
      "image/png": "[encoded data removed]",
      "text/plain": [
       "<Figure size 720x360 with 1 Axes>"
      ]
     },
     "metadata": {
      "needs_background": "light"
     },
     "output_type": "display_data"
    }
   ],
   "source": [
    "fig = plt.figure(figsize=(10,5))\n",
    "ax = fig.add_subplot(1, 1, 1)\n",
    "ax.set_ylim(-6, 6)\n",
    "ax.set_xlim(0, 7)\n",
    "\n",
    "ax.spines[\"left\"].set_position(\"zero\")\n",
    "ax.spines[\"right\"].set_visible(False)\n",
    "ax.spines[\"bottom\"].set_position(\"zero\")\n",
    "ax.spines[\"top\"].set_visible(False)\n",
    "\n",
    "\n",
    "ax.set_xlabel(\"$V-lijn$\")\n",
    "ax.xaxis.set_label_coords(0.53, 1.04)\n",
    "plt.gca()\n",
    "ax.plot(x_val/cos[300], np.array(V_list), label='V-lijn')\n",
    "ax.legend();\n",
    "x_val[-1]/cos[300] #De lengte van de kromme ligger. \n",
    "plt.savefig('V_par_lijnvoorbeeld2', dpi=450);"
   ]
  },
  {
   "cell_type": "code",
   "execution_count": 38,
   "metadata": {},
   "outputs": [],
   "source": [
    "x_val = np.linspace(0, l, 550)\n",
    "N_list = []\n",
    "for i in range(len(x_val)):\n",
    "    N_list.append((-Av*sf(x_val[i], 0,0) -Bv*sf(x_val[i],4,0)+ 10*sf(x_val[i], 2, 0)) * sin[i])\n",
    "# print(N_list)"
   ]
  },
  {
   "cell_type": "code",
   "execution_count": 39,
   "metadata": {},
   "outputs": [
    {
     "data": {
      "image/png": "[encoded data removed]",
      "text/plain": [
       "<Figure size 720x360 with 1 Axes>"
      ]
     },
     "metadata": {
      "needs_background": "light"
     },
     "output_type": "display_data"
    }
   ],
   "source": [
    "fig = plt.figure(figsize=(10,5))\n",
    "ax = fig.add_subplot(1, 1, 1)\n",
    "ax.set_ylim(-4, 5)\n",
    "ax.set_xlim(0, 7)\n",
    "\n",
    "ax.spines[\"left\"].set_position(\"zero\")\n",
    "ax.spines[\"right\"].set_visible(False)\n",
    "ax.spines[\"bottom\"].set_position(\"zero\")\n",
    "ax.spines[\"top\"].set_visible(False)\n",
    "\n",
    "\n",
    "ax.set_xlabel(\"$N-lijn$\")\n",
    "ax.xaxis.set_label_coords(0.53, 1.04)\n",
    "plt.gca()\n",
    "ax.plot(x_val/cos[300], np.array(N_list), label='N-lijn')\n",
    "ax.legend()\n",
    "plt.savefig('N_par_lijnvoorbeeld2', dpi=450);"
   ]
  },
  {
   "cell_type": "code",
   "execution_count": 40,
   "metadata": {},
   "outputs": [],
   "source": [
    "x_val = np.linspace(0, 4, 550)\n",
    "M_list = []\n",
    "for i in x_val:\n",
    "    M_list.append((Av * sf(i, 0, 1) - F * sf(i, l/2, 1) + Bv * sf(i, l, 1)))\n",
    "#display(M)"
   ]
  },
  {
   "cell_type": "code",
   "execution_count": 41,
   "metadata": {},
   "outputs": [
    {
     "data": {
      "image/png": "[encoded data removed]",
      "text/plain": [
       "<Figure size 720x360 with 1 Axes>"
      ]
     },
     "metadata": {
      "needs_background": "light"
     },
     "output_type": "display_data"
    }
   ],
   "source": [
    "fig = plt.figure(figsize=(10,5))\n",
    "ax = fig.add_subplot(1, 1, 1)\n",
    "ax.set_xlim(0, 7)\n",
    "ax.set_ylim(-11, 3)\n",
    "\n",
    "ax.spines[\"left\"].set_position(\"zero\")\n",
    "ax.spines[\"right\"].set_visible(False)\n",
    "ax.spines[\"bottom\"].set_position(\"zero\")\n",
    "ax.spines[\"top\"].set_visible(False)\n",
    "\n",
    "\n",
    "ax.set_xlabel(\"$M-lijn$\")\n",
    "ax.xaxis.set_label_coords(0.53, 1.04)\n",
    "plt.gca()\n",
    "ax.plot(x_val/cos[300], -np.array(M_list) , label='M-lijn')\n",
    "ax.legend()\n",
    "plt.savefig('M_par_lijnvoorbeeld2', dpi=450);"
   ]
  },
  {
   "cell_type": "code",
   "execution_count": 42,
   "metadata": {},
   "outputs": [],
   "source": [
    "x_val = np.linspace(0, l, 550)\n",
    "phi_list = []\n",
    "for i in x_val:\n",
    "    phi_list.append((Av/2) * sf(i, 0, 2) - (F/2) * sf(i, l/2, 2) + (Bv/2) * sf(i, l, 2) + Cphi)"
   ]
  },
  {
   "cell_type": "code",
   "execution_count": 43,
   "metadata": {},
   "outputs": [
    {
     "data": {
      "image/png": "[encoded data removed]",
      "text/plain": [
       "<Figure size 720x360 with 1 Axes>"
      ]
     },
     "metadata": {
      "needs_background": "light"
     },
     "output_type": "display_data"
    }
   ],
   "source": [
    "fig = plt.figure(figsize=(10,5))\n",
    "ax = fig.add_subplot(1, 1, 1)\n",
    "ax.set_xlim(0, 7)\n",
    "ax.set_ylim(-11, 12)\n",
    "\n",
    "ax.spines[\"left\"].set_position(\"zero\")\n",
    "ax.spines[\"right\"].set_visible(False)\n",
    "ax.spines[\"bottom\"].set_position(\"zero\")\n",
    "ax.spines[\"top\"].set_visible(False)\n",
    "\n",
    "\n",
    "ax.set_xlabel(\"$phi-lijn$\")\n",
    "ax.xaxis.set_label_coords(0.53, 1.04)\n",
    "plt.gca()\n",
    "ax.plot(x_val/cos[300], np.array(phi_list), label='phi-lijn')\n",
    "ax.legend()\n",
    "plt.savefig('phi_par_lijnvoorbeeld2', dpi=450);"
   ]
  },
  {
   "cell_type": "code",
   "execution_count": 44,
   "metadata": {},
   "outputs": [],
   "source": [
    "x_val = np.linspace(0, l, 550)\n",
    "W_list = []\n",
    "for i in x_val:\n",
    "    W_list.append((-Av/6) * sf(i, 0, 3) + (F/6) * sf(i, l/2, 3) + (Bv/6) * sf(i, l, 3) - Cphi*i)"
   ]
  },
  {
   "cell_type": "code",
   "execution_count": 45,
   "metadata": {},
   "outputs": [
    {
     "data": {
      "image/png": "[encoded data removed]",
      "text/plain": [
       "<Figure size 720x360 with 1 Axes>"
      ]
     },
     "metadata": {
      "needs_background": "light"
     },
     "output_type": "display_data"
    }
   ],
   "source": [
    "fig = plt.figure(figsize=(10, 5))\n",
    "ax = fig.add_subplot(1, 1, 1)\n",
    "ax.set_xlim(0, 7)\n",
    "ax.set_ylim(-14, 3)\n",
    "\n",
    "ax.spines[\"left\"].set_position(\"zero\")\n",
    "ax.spines[\"right\"].set_visible(False)\n",
    "ax.spines[\"bottom\"].set_position(\"zero\")\n",
    "ax.spines[\"top\"].set_visible(False)\n",
    "\n",
    "\n",
    "ax.set_xlabel(\"$W-lijn$\")\n",
    "ax.xaxis.set_label_coords(0.53, 1.04)\n",
    "plt.gca()\n",
    "ax.plot(x_val/cos[300], - np.array(W_list), label='W-lijn')\n",
    "plt.savefig('W_par_lijnvoorbeeld2', dpi=450);"
   ]
  },
  {
   "cell_type": "markdown",
   "metadata": {},
   "source": [
    "# Waarden in MatrixFrame"
   ]
  },
  {
   "cell_type": "code",
   "execution_count": 46,
   "metadata": {},
   "outputs": [
    {
     "name": "stdout",
     "output_type": "stream",
     "text": [
      "[0.  0.2 0.4 0.6 0.8 1.  1.2 1.4 1.6 1.8 2.  2.2 2.4 2.6 2.8 3.  3.2 3.4\n",
      " 3.6 3.8 4. ]\n"
     ]
    }
   ],
   "source": [
    "x = np.linspace(0, 4, 21)\n",
    "print(x)"
   ]
  },
  {
   "cell_type": "code",
   "execution_count": 47,
   "metadata": {},
   "outputs": [],
   "source": [
    "y = x**2/20\n",
    "y1 = x**2/ 4"
   ]
  },
  {
   "cell_type": "code",
   "execution_count": 48,
   "metadata": {},
   "outputs": [
    {
     "name": "stdout",
     "output_type": "stream",
     "text": [
      "[0.    0.002 0.008 0.018 0.032 0.05  0.072 0.098 0.128 0.162 0.2   0.242\n",
      " 0.288 0.338 0.392 0.45  0.512 0.578 0.648 0.722 0.8  ]\n"
     ]
    }
   ],
   "source": [
    "print(y)"
   ]
  },
  {
   "cell_type": "code",
   "execution_count": 49,
   "metadata": {},
   "outputs": [
    {
     "name": "stdout",
     "output_type": "stream",
     "text": [
      "[0.   0.01 0.04 0.09 0.16 0.25 0.36 0.49 0.64 0.81 1.   1.21 1.44 1.69\n",
      " 1.96 2.25 2.56 2.89 3.24 3.61 4.  ]\n"
     ]
    }
   ],
   "source": [
    "print(y1)"
   ]
  },
  {
   "cell_type": "code",
   "execution_count": 50,
   "metadata": {},
   "outputs": [
    {
     "name": "stdout",
     "output_type": "stream",
     "text": [
      "0.007259528130671506\n"
     ]
    }
   ],
   "source": []
  },
  {
   "cell_type": "code",
   "execution_count": null,
   "metadata": {},
   "outputs": [],
   "source": []
  },
  {
   "cell_type": "code",
   "execution_count": null,
   "metadata": {},
   "outputs": [],
   "source": []
  },
  {
   "cell_type": "code",
   "execution_count": null,
   "metadata": {},
   "outputs": [],
   "source": []
  },
  {
   "cell_type": "code",
   "execution_count": null,
   "metadata": {},
   "outputs": [],
   "source": []
  },
  {
   "cell_type": "code",
   "execution_count": null,
   "metadata": {},
   "outputs": [],
   "source": []
  },
  {
   "cell_type": "code",
   "execution_count": null,
   "metadata": {},
   "outputs": [],
   "source": []
  },
  {
   "cell_type": "code",
   "execution_count": null,
   "metadata": {},
   "outputs": [],
   "source": []
  },
  {
   "cell_type": "code",
   "execution_count": null,
   "metadata": {},
   "outputs": [],
   "source": []
  },
  {
   "cell_type": "code",
   "execution_count": null,
   "metadata": {},
   "outputs": [],
   "source": []
  },
  {
   "cell_type": "code",
   "execution_count": null,
   "metadata": {},
   "outputs": [],
   "source": []
  },
  {
   "cell_type": "code",
   "execution_count": null,
   "metadata": {},
   "outputs": [],
   "source": []
  },
  {
   "cell_type": "code",
   "execution_count": null,
   "metadata": {},
   "outputs": [],
   "source": []
  },
  {
   "cell_type": "code",
   "execution_count": null,
   "metadata": {},
   "outputs": [],
   "source": []
  },
  {
   "cell_type": "code",
   "execution_count": null,
   "metadata": {},
   "outputs": [],
   "source": []
  },
  {
   "cell_type": "code",
   "execution_count": null,
   "metadata": {},
   "outputs": [],
   "source": []
  },
  {
   "cell_type": "code",
   "execution_count": null,
   "metadata": {},
   "outputs": [],
   "source": []
  },
  {
   "cell_type": "code",
   "execution_count": null,
   "metadata": {},
   "outputs": [],
   "source": []
  },
  {
   "cell_type": "code",
   "execution_count": null,
   "metadata": {},
   "outputs": [],
   "source": []
  },
  {
   "cell_type": "code",
   "execution_count": null,
   "metadata": {},
   "outputs": [],
   "source": []
  },
  {
   "cell_type": "code",
   "execution_count": null,
   "metadata": {},
   "outputs": [],
   "source": []
  }
 ],
 "metadata": {
  "kernelspec": {
   "display_name": "Python 3",
   "language": "python",
   "name": "python3"
  },
  "language_info": {
   "codemirror_mode": {
    "name": "ipython",
    "version": 3
   },
   "file_extension": ".py",
   "mimetype": "text/x-python",
   "name": "python",
   "nbconvert_exporter": "python",
   "pygments_lexer": "ipython3",
   "version": "3.8.3"
  }
 },
 "nbformat": 4,
 "nbformat_minor": 4
}
