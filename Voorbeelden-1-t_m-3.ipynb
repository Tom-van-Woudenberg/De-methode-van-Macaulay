{
 "cells": [
  {
   "cell_type": "code",
   "execution_count": 1,
   "metadata": {},
   "outputs": [],
   "source": [
    "import sympy as sp\n",
    "import numpy as np\n",
    "from sympy import symbols\n",
    "sf = sp.SingularityFunction\n",
    "import matplotlib.pyplot as plt"
   ]
  },
  {
   "cell_type": "code",
   "execution_count": 2,
   "metadata": {},
   "outputs": [],
   "source": [
    "EI = symbols('EI')\n",
    "x = symbols('x')"
   ]
  },
  {
   "cell_type": "code",
   "execution_count": 3,
   "metadata": {},
   "outputs": [
    {
     "name": "stdout",
     "output_type": "stream",
     "text": [
      "Solution in the x-direction:\n"
     ]
    },
    {
     "data": {
      "text/plain": [
       "'dV/dx ='"
      ]
     },
     "metadata": {},
     "output_type": "display_data"
    },
    {
     "data": {
      "text/latex": [
       "$\\displaystyle - qx \\sin{\\left(\\theta \\right)} \\tan{\\left(\\theta \\right)} - qz \\cos{\\left(\\theta \\right)}$"
      ],
      "text/plain": [
       "-qx*sin(theta)*tan(theta) - qz*cos(theta)"
      ]
     },
     "metadata": {},
     "output_type": "display_data"
    },
    {
     "data": {
      "text/plain": [
       "'dN/dx ='"
      ]
     },
     "metadata": {},
     "output_type": "display_data"
    },
    {
     "data": {
      "text/latex": [
       "$\\displaystyle \\left(- qx + qz\\right) \\sin{\\left(\\theta \\right)}$"
      ],
      "text/plain": [
       "(-qx + qz)*sin(theta)"
      ]
     },
     "metadata": {},
     "output_type": "display_data"
    }
   ],
   "source": [
    "## het oplossen van differentiaal vergelijking\n",
    "## in x-richting\n",
    "# Define the symbols\n",
    "cv, cn, qx, qz, theta = sp.symbols('cv, cn, qx, qz, theta')  ## cv = dv/dx, cn = dn/dx\n",
    "\n",
    "# Define the equations\n",
    "eq1 = (qx* sp.tan(theta)) + (sp.sin(theta) * cv) + (sp.cos(theta) * cn)\n",
    "eq2 = (qz) + (sp.cos(theta) * cv) - (sp.sin(theta) * cn)\n",
    "\n",
    "# Solve the system of equations\n",
    "solution = sp.solve((eq1, eq2), (cv, cn))\n",
    "\n",
    "# Display the solution\n",
    "print(\"Solution in the x-direction:\")\n",
    "display(\"dV/dx =\", solution[cv])\n",
    "display(\"dN/dx =\", solution[cn])"
   ]
  },
  {
   "cell_type": "code",
   "execution_count": 4,
   "metadata": {},
   "outputs": [
    {
     "name": "stdout",
     "output_type": "stream",
     "text": [
      "Solution in the x-direction:\n"
     ]
    },
    {
     "data": {
      "text/plain": [
       "'dV/dx ='"
      ]
     },
     "metadata": {},
     "output_type": "display_data"
    },
    {
     "data": {
      "text/latex": [
       "$\\displaystyle - qx \\sin{\\left(\\theta \\right)} - qz \\cos{\\left(\\theta \\right)}$"
      ],
      "text/plain": [
       "-qx*sin(theta) - qz*cos(theta)"
      ]
     },
     "metadata": {},
     "output_type": "display_data"
    },
    {
     "data": {
      "text/plain": [
       "'dN/dx ='"
      ]
     },
     "metadata": {},
     "output_type": "display_data"
    },
    {
     "data": {
      "text/latex": [
       "$\\displaystyle - qx \\cos{\\left(\\theta \\right)} + qz \\sin{\\left(\\theta \\right)}$"
      ],
      "text/plain": [
       "-qx*cos(theta) + qz*sin(theta)"
      ]
     },
     "metadata": {},
     "output_type": "display_data"
    }
   ],
   "source": [
    "## het oplossen van differentiaal vergelijking\n",
    "\n",
    "## in x-richting\n",
    "\n",
    "# Define the symbols\n",
    "cv, cn, qx, qz, theta = sp.symbols('cv, cn, qx, qz, theta')  ## cv = dv/dx, cn = dn/dx\n",
    "\n",
    "# Define the equations\n",
    "eq1 = (qx) + (sp.sin(theta) * cv) + (sp.cos(theta) * cn)\n",
    "eq2 = (qz) + (sp.cos(theta) * cv) - (sp.sin(theta) * cn)\n",
    "\n",
    "# Solve the system of equations\n",
    "solution = sp.solve((eq1, eq2), (cv, cn))\n",
    "\n",
    "# Display the solution\n",
    "print(\"Solution in the x-direction:\")\n",
    "display(\"dV/dx =\", solution[cv])\n",
    "display(\"dN/dx =\", solution[cn])"
   ]
  },
  {
   "cell_type": "markdown",
   "metadata": {},
   "source": [
    "# Voorbeeld 1"
   ]
  },
  {
   "cell_type": "code",
   "execution_count": 5,
   "metadata": {},
   "outputs": [],
   "source": [
    "Cv, Cm, Cphi, Cw, Av, Bv, Ah, Cn, Cu = sp.symbols('Cv, Cm, Cphi, Cw, Av, Bv, Ah, Cn, Cu')\n",
    "\n",
    "# F, l en theta definiëren \n",
    "F = 10  ## KN\n",
    "l = 4   ## m\n",
    "theta = sp.atan(1/2) \n",
    "\n",
    "# qz en qx definiëren\n",
    "qz = -Av * sf(x, 0, -1) + F * sf(x, l/2, -1) - Bv * sf(x, l, -1)\n",
    "qx = Ah * sf(x, 0, -1)"
   ]
  },
  {
   "cell_type": "code",
   "execution_count": 6,
   "metadata": {},
   "outputs": [],
   "source": [
    "# V definiëren als een functie van x\n",
    "V = sp.integrate(-qx * sp.sin(theta), x) + sp.integrate(-qz * sp.cos(theta), x) + Cv\n",
    "# N definiëren als een functie van x\n",
    "N = sp.integrate(-qx * sp.cos(theta), x) + sp.integrate(qz * sp.sin(theta), x) + Cn"
   ]
  },
  {
   "cell_type": "code",
   "execution_count": 7,
   "metadata": {},
   "outputs": [],
   "source": [
    "# N definiëren als een functie van x\n",
    "M = sp.integrate(V/sp.cos(theta), x) + Cm\n",
    "\n",
    "# phi definiëren als een functie van x\n",
    "phi = sp.integrate(M, x) + Cphi\n",
    "\n",
    "# W definiëren als een functie van x\n",
    "W = sp.integrate(-phi, x) + Cw"
   ]
  },
  {
   "cell_type": "code",
   "execution_count": 8,
   "metadata": {},
   "outputs": [],
   "source": [
    "# u definiëren als een functie van x\n",
    "u = sp.integrate(N, x) + Cu"
   ]
  },
  {
   "cell_type": "code",
   "execution_count": 9,
   "metadata": {},
   "outputs": [
    {
     "data": {
      "text/plain": [
       "'V:'"
      ]
     },
     "metadata": {},
     "output_type": "display_data"
    },
    {
     "data": {
      "text/latex": [
       "$\\displaystyle - 0.447213595499958 Ah {\\left\\langle x \\right\\rangle}^{0} + 0.894427190999916 Av {\\left\\langle x \\right\\rangle}^{0} + 0.894427190999916 Bv {\\left\\langle x - 4 \\right\\rangle}^{0} + Cv - 8.94427190999916 {\\left\\langle x - 2.0 \\right\\rangle}^{0}$"
      ],
      "text/plain": [
       "-0.447213595499958*Ah*SingularityFunction(x, 0, 0) + 0.894427190999916*Av*SingularityFunction(x, 0, 0) + 0.894427190999916*Bv*SingularityFunction(x, 4, 0) + Cv - 8.94427190999916*SingularityFunction(x, 2.0, 0)"
      ]
     },
     "metadata": {},
     "output_type": "display_data"
    },
    {
     "data": {
      "text/plain": [
       "'M:'"
      ]
     },
     "metadata": {},
     "output_type": "display_data"
    },
    {
     "data": {
      "text/latex": [
       "$\\displaystyle - 0.5 Ah {\\left\\langle x \\right\\rangle}^{1} + 1.0 Av {\\left\\langle x \\right\\rangle}^{1} + 1.0 Bv {\\left\\langle x - 4 \\right\\rangle}^{1} + Cm + 1.11803398874989 Cv x - 10.0 {\\left\\langle x - 2.0 \\right\\rangle}^{1}$"
      ],
      "text/plain": [
       "-0.5*Ah*SingularityFunction(x, 0, 1) + 1.0*Av*SingularityFunction(x, 0, 1) + 1.0*Bv*SingularityFunction(x, 4, 1) + Cm + 1.11803398874989*Cv*x - 10.0*SingularityFunction(x, 2.0, 1)"
      ]
     },
     "metadata": {},
     "output_type": "display_data"
    },
    {
     "data": {
      "text/plain": [
       "'phi:'"
      ]
     },
     "metadata": {},
     "output_type": "display_data"
    },
    {
     "data": {
      "text/latex": [
       "$\\displaystyle - 0.25 Ah {\\left\\langle x \\right\\rangle}^{2} + 0.5 Av {\\left\\langle x \\right\\rangle}^{2} + 0.5 Bv {\\left\\langle x - 4 \\right\\rangle}^{2} + Cm x + Cphi + 0.559016994374947 Cv x^{2} - 5.0 {\\left\\langle x - 2.0 \\right\\rangle}^{2}$"
      ],
      "text/plain": [
       "-0.25*Ah*SingularityFunction(x, 0, 2) + 0.5*Av*SingularityFunction(x, 0, 2) + 0.5*Bv*SingularityFunction(x, 4, 2) + Cm*x + Cphi + 0.559016994374947*Cv*x**2 - 5.0*SingularityFunction(x, 2.0, 2)"
      ]
     },
     "metadata": {},
     "output_type": "display_data"
    },
    {
     "data": {
      "text/plain": [
       "'W:'"
      ]
     },
     "metadata": {},
     "output_type": "display_data"
    },
    {
     "data": {
      "text/latex": [
       "$\\displaystyle 0.0833333333333333 Ah {\\left\\langle x \\right\\rangle}^{3} - 0.166666666666667 Av {\\left\\langle x \\right\\rangle}^{3} - 0.166666666666667 Bv {\\left\\langle x - 4 \\right\\rangle}^{3} - \\frac{Cm x^{2}}{2} - Cphi x - 0.186338998124982 Cv x^{3} + Cw + 1.66666666666667 {\\left\\langle x - 2.0 \\right\\rangle}^{3}$"
      ],
      "text/plain": [
       "0.0833333333333333*Ah*SingularityFunction(x, 0, 3) - 0.166666666666667*Av*SingularityFunction(x, 0, 3) - 0.166666666666667*Bv*SingularityFunction(x, 4, 3) - Cm*x**2/2 - Cphi*x - 0.186338998124982*Cv*x**3 + Cw + 1.66666666666667*SingularityFunction(x, 2.0, 3)"
      ]
     },
     "metadata": {},
     "output_type": "display_data"
    },
    {
     "data": {
      "text/plain": [
       "'N:'"
      ]
     },
     "metadata": {},
     "output_type": "display_data"
    },
    {
     "data": {
      "text/latex": [
       "$\\displaystyle - 0.894427190999916 Ah {\\left\\langle x \\right\\rangle}^{0} - 0.447213595499958 Av {\\left\\langle x \\right\\rangle}^{0} - 0.447213595499958 Bv {\\left\\langle x - 4 \\right\\rangle}^{0} + Cn + 4.47213595499958 {\\left\\langle x - 2.0 \\right\\rangle}^{0}$"
      ],
      "text/plain": [
       "-0.894427190999916*Ah*SingularityFunction(x, 0, 0) - 0.447213595499958*Av*SingularityFunction(x, 0, 0) - 0.447213595499958*Bv*SingularityFunction(x, 4, 0) + Cn + 4.47213595499958*SingularityFunction(x, 2.0, 0)"
      ]
     },
     "metadata": {},
     "output_type": "display_data"
    },
    {
     "data": {
      "text/plain": [
       "'u:'"
      ]
     },
     "metadata": {},
     "output_type": "display_data"
    },
    {
     "data": {
      "text/latex": [
       "$\\displaystyle - 0.894427190999916 Ah {\\left\\langle x \\right\\rangle}^{1} - 0.447213595499958 Av {\\left\\langle x \\right\\rangle}^{1} - 0.447213595499958 Bv {\\left\\langle x - 4 \\right\\rangle}^{1} + Cn x + Cu + 4.47213595499958 {\\left\\langle x - 2.0 \\right\\rangle}^{1}$"
      ],
      "text/plain": [
       "-0.894427190999916*Ah*SingularityFunction(x, 0, 1) - 0.447213595499958*Av*SingularityFunction(x, 0, 1) - 0.447213595499958*Bv*SingularityFunction(x, 4, 1) + Cn*x + Cu + 4.47213595499958*SingularityFunction(x, 2.0, 1)"
      ]
     },
     "metadata": {},
     "output_type": "display_data"
    }
   ],
   "source": [
    "display(\"V:\", V)\n",
    "display(\"M:\", M)\n",
    "display(\"phi:\", phi)\n",
    "display(\"W:\", W)\n",
    "display(\"N:\", N)\n",
    "display(\"u:\", u)"
   ]
  },
  {
   "cell_type": "code",
   "execution_count": 10,
   "metadata": {},
   "outputs": [],
   "source": [
    "## Voorwarden\n",
    "\n",
    "eq1 = V.subs(x, -1)\n",
    "eq2 = V.subs(x, l+1) \n",
    "\n",
    "eq3 = M.subs(x, 0)\n",
    "eq4 = M.subs(x, l)\n",
    "\n",
    "eq5 = W.subs(x, l)\n",
    "eq6 = W.subs(x, 0)\n",
    "\n",
    "eq7 = N.subs(x, -1)\n",
    "eq8 = N.subs(x, l+1)\n",
    "\n",
    "eq9 = u.subs(x, 0)\n",
    "\n",
    "equations = [eq1 -0, eq2-0,eq3-0,eq4-0,eq5-0,eq6-0, eq7-0, eq8 -0, eq9 - 0]\n",
    "solutions = sp.solve(equations, (Cv, Cm, Cphi, Cw, Av, Bv, Ah, Cn, Cu))"
   ]
  },
  {
   "cell_type": "code",
   "execution_count": 11,
   "metadata": {},
   "outputs": [
    {
     "name": "stdout",
     "output_type": "stream",
     "text": [
      "{Cv: 0.0, Cm: 0.0, Cphi: -10.0000000000000, Cw: 0.0, Av: 5.00000000000000, Bv: 5.00000000000000, Ah: 0.0, Cn: 0.0, Cu: 0.0}\n"
     ]
    }
   ],
   "source": [
    "print(solutions)"
   ]
  },
  {
   "cell_type": "code",
   "execution_count": 12,
   "metadata": {},
   "outputs": [
    {
     "data": {
      "text/latex": [
       "$\\displaystyle 4.47213595499958$"
      ],
      "text/plain": [
       "4.47213595499958"
      ]
     },
     "execution_count": 12,
     "metadata": {},
     "output_type": "execute_result"
    }
   ],
   "source": [
    "l/sp.cos(theta)"
   ]
  },
  {
   "cell_type": "code",
   "execution_count": 13,
   "metadata": {},
   "outputs": [],
   "source": [
    "x_val = np.linspace(0, 4.47213595499958, 901)\n",
    "V_numpy = sp.lambdify(x,V.subs(solutions).rewrite(sp.Piecewise).simplify()) #substitute full solution, make python function of formula\n",
    "V_list = V_numpy(x_val)\n",
    "\n",
    "#print(V_list)"
   ]
  },
  {
   "cell_type": "code",
   "execution_count": 14,
   "metadata": {},
   "outputs": [
    {
     "data": {
      "image/png": "[encoded data removed]",
      "text/plain": [
       "<Figure size 720x360 with 1 Axes>"
      ]
     },
     "metadata": {
      "needs_background": "light"
     },
     "output_type": "display_data"
    }
   ],
   "source": [
    "fig = plt.figure(figsize=(10, 5))\n",
    "ax = fig.add_subplot(1, 1, 1)\n",
    "ax.set_xlim(0, 4.48)\n",
    "ax.set_ylim(-6, 10)\n",
    "\n",
    "ax.spines[\"left\"].set_position(\"zero\")\n",
    "ax.spines[\"right\"].set_visible(False)\n",
    "ax.spines[\"bottom\"].set_position(\"zero\")\n",
    "ax.spines[\"top\"].set_visible(False)\n",
    "\n",
    "\n",
    "ax.set_xlabel(\"$V-lijn$\")\n",
    "ax.xaxis.set_label_coords(0.53, 1.04)\n",
    "plt.gca()\n",
    "ax.plot(x_val/sp.cos(theta), np.array(V_list) , label='V-lijn')\n",
    "plt.text(0.7, 2, f'{V_list[100]:.2f}', fontsize=25, color='red')\n",
    "plt.text(3, -2.4, f'{V_list[500]:.2f}', fontsize=25, color='red')\n",
    "plt.savefig('V_lijnvoorbeeld1', dpi=450);"
   ]
  },
  {
   "cell_type": "code",
   "execution_count": 15,
   "metadata": {},
   "outputs": [],
   "source": [
    "x_val = np.linspace(0, l, 901)\n",
    "M_numpy = sp.lambdify(x,M.subs(solutions).rewrite(sp.Piecewise).simplify()) #substitute full solution, make python function of formula\n",
    "M_list = M_numpy(x_val)\n",
    "#print(M_list)"
   ]
  },
  {
   "cell_type": "code",
   "execution_count": 16,
   "metadata": {},
   "outputs": [
    {
     "data": {
      "image/png": "[encoded data removed]",
      "text/plain": [
       "<Figure size 720x360 with 1 Axes>"
      ]
     },
     "metadata": {
      "needs_background": "light"
     },
     "output_type": "display_data"
    }
   ],
   "source": [
    "fig = plt.figure(figsize=(10, 5))\n",
    "ax = fig.add_subplot(1, 1, 1)\n",
    "ax.set_xlim(0, 4.48)\n",
    "ax.set_ylim(-14, 10)\n",
    "\n",
    "ax.spines[\"left\"].set_position(\"zero\")\n",
    "ax.spines[\"right\"].set_visible(False)\n",
    "ax.spines[\"bottom\"].set_position(\"zero\")\n",
    "ax.spines[\"top\"].set_visible(False)\n",
    "\n",
    "\n",
    "ax.set_xlabel(\"$M-lijn$\")\n",
    "ax.xaxis.set_label_coords(0.53, 1.04)\n",
    "plt.gca()\n",
    "ax.plot(x_val/sp.cos(theta), - np.array(M_list) , label='M-lijn');\n",
    "plt.savefig('M_lijnvoorbeeld1', dpi=450);"
   ]
  },
  {
   "cell_type": "code",
   "execution_count": 17,
   "metadata": {},
   "outputs": [],
   "source": [
    "x_val = np.linspace(0, l, 901)\n",
    "phi_numpy = sp.lambdify(x,phi.subs(solutions).rewrite(sp.Piecewise).simplify()) #substitute full solution, make python function of formula\n",
    "phi_list = phi_numpy(x_val)"
   ]
  },
  {
   "cell_type": "code",
   "execution_count": 18,
   "metadata": {},
   "outputs": [
    {
     "data": {
      "image/png": "[encoded data removed]",
      "text/plain": [
       "<Figure size 720x360 with 1 Axes>"
      ]
     },
     "metadata": {
      "needs_background": "light"
     },
     "output_type": "display_data"
    }
   ],
   "source": [
    "fig = plt.figure(figsize=(10, 5))\n",
    "ax = fig.add_subplot(1, 1, 1)\n",
    "ax.set_xlim(0, 4.48)\n",
    "ax.set_ylim(-12, 12)\n",
    "\n",
    "ax.spines[\"left\"].set_position(\"zero\")\n",
    "ax.spines[\"right\"].set_visible(False)\n",
    "ax.spines[\"bottom\"].set_position(\"zero\")\n",
    "ax.spines[\"top\"].set_visible(False)\n",
    "\n",
    "\n",
    "ax.set_xlabel(\"$EI*phi-lijn$\")\n",
    "ax.xaxis.set_label_coords(0.53, 1.04)\n",
    "plt.gca()\n",
    "ax.plot(x_val/sp.cos(theta), np.array(phi_list) , label='phi-lijn')\n",
    "plt.savefig('phi_lijnvoorbeeld1', dpi=450);"
   ]
  },
  {
   "cell_type": "code",
   "execution_count": 19,
   "metadata": {},
   "outputs": [],
   "source": [
    "x_val = np.linspace(0, l, 901)\n",
    "W_numpy = sp.lambdify(x,W.subs(solutions).rewrite(sp.Piecewise).simplify()) #substitute full solution, make python function of formula\n",
    "W_list = W_numpy(x_val)"
   ]
  },
  {
   "cell_type": "code",
   "execution_count": 20,
   "metadata": {},
   "outputs": [
    {
     "data": {
      "image/png": "[encoded data removed]",
      "text/plain": [
       "<Figure size 720x360 with 1 Axes>"
      ]
     },
     "metadata": {
      "needs_background": "light"
     },
     "output_type": "display_data"
    }
   ],
   "source": [
    "fig = plt.figure(figsize=(10, 5))\n",
    "ax = fig.add_subplot(1, 1, 1)\n",
    "ax.set_xlim(0, 4.48)\n",
    "ax.set_ylim(-15, 2)\n",
    "\n",
    "ax.spines[\"left\"].set_position(\"zero\")\n",
    "ax.spines[\"right\"].set_visible(False)\n",
    "ax.spines[\"bottom\"].set_position(\"zero\")\n",
    "ax.spines[\"top\"].set_visible(False)\n",
    "\n",
    "\n",
    "ax.set_xlabel(\"$EI*w-lijn$\")\n",
    "ax.xaxis.set_label_coords(0.53, 1.04)\n",
    "plt.gca()\n",
    "ax.plot(x_val/sp.cos(theta), - np.array(W_list) , label='w-lijn')\n",
    "plt.savefig('w_lijnvoorbeeld1', dpi=450);"
   ]
  },
  {
   "cell_type": "code",
   "execution_count": 21,
   "metadata": {},
   "outputs": [],
   "source": [
    "x_val = np.linspace(0,  4.47213595499958, 901)\n",
    "N_numpy = sp.lambdify(x,N.subs(solutions).rewrite(sp.Piecewise).simplify()) #substitute full solution, make python function of formula\n",
    "N_list = N_numpy(x_val)"
   ]
  },
  {
   "cell_type": "code",
   "execution_count": 22,
   "metadata": {},
   "outputs": [
    {
     "data": {
      "image/png": "[encoded data removed]",
      "text/plain": [
       "<Figure size 720x360 with 1 Axes>"
      ]
     },
     "metadata": {
      "needs_background": "light"
     },
     "output_type": "display_data"
    }
   ],
   "source": [
    "fig = plt.figure(figsize=(10, 5))\n",
    "ax = fig.add_subplot(1, 1, 1)\n",
    "ax.set_xlim(0, 4.48)\n",
    "ax.set_ylim(-4, 4)\n",
    "\n",
    "ax.spines[\"left\"].set_position(\"zero\")\n",
    "ax.spines[\"right\"].set_visible(False)\n",
    "ax.spines[\"bottom\"].set_position(\"zero\")\n",
    "ax.spines[\"top\"].set_visible(False)\n",
    "\n",
    "\n",
    "ax.set_xlabel(\"$N-lijn$\")\n",
    "ax.xaxis.set_label_coords(0.53, 1.04)\n",
    "plt.text(0.7, -1, f'{N_list[100]:.2f}', fontsize=25, color='red')\n",
    "plt.text(3, 1.2, f'{N_list[500]:.2f}', fontsize=25, color='red')\n",
    "plt.gca()\n",
    "ax.plot(x_val/sp.cos(theta),  np.array(N_list) , label='N-lijn')\n",
    "plt.savefig('N_lijnvoorbeeld1', dpi=450);"
   ]
  },
  {
   "cell_type": "code",
   "execution_count": 23,
   "metadata": {},
   "outputs": [],
   "source": [
    "x_val = np.linspace(0, l, 301)\n",
    "u_numpy = sp.lambdify(x,u.subs(solutions).rewrite(sp.Piecewise).simplify()) #substitute full solution, make python function of formula\n",
    "u_list = u_numpy(x_val)"
   ]
  },
  {
   "cell_type": "code",
   "execution_count": 24,
   "metadata": {},
   "outputs": [
    {
     "data": {
      "image/png": "[encoded data removed]",
      "text/plain": [
       "<Figure size 720x360 with 1 Axes>"
      ]
     },
     "metadata": {
      "needs_background": "light"
     },
     "output_type": "display_data"
    }
   ],
   "source": [
    "fig = plt.figure(figsize=(10, 5))\n",
    "ax = fig.add_subplot(1, 1, 1)\n",
    "ax.set_xlim(0, 4.48)\n",
    "ax.set_ylim(-6, 4)\n",
    "\n",
    "ax.spines[\"left\"].set_position(\"zero\")\n",
    "ax.spines[\"right\"].set_visible(False)\n",
    "ax.spines[\"bottom\"].set_position(\"zero\")\n",
    "ax.spines[\"top\"].set_visible(False)\n",
    "\n",
    "\n",
    "ax.set_xlabel(\"$EA*u-lijn$\")\n",
    "ax.xaxis.set_label_coords(0.53, 1.04)\n",
    "plt.gca()\n",
    "ax.plot(x_val/sp.cos(theta),  np.array(u_list) , label='u-lijn')\n",
    "plt.savefig('u_lijnvoorbeeld1', dpi=450);"
   ]
  },
  {
   "cell_type": "markdown",
   "metadata": {},
   "source": [
    "# Voorbeeld 2"
   ]
  },
  {
   "cell_type": "code",
   "execution_count": 25,
   "metadata": {},
   "outputs": [],
   "source": [
    "Cv, Cm, Cphi, Cw, Av, MA, Ah, Cn, Cu = sp.symbols('Cv, Cm, Cphi, Cw, Av, MA, Ah, Cn, Cu')\n",
    "\n",
    "# F, l en theta definiëren \n",
    "F = 10  ## KN\n",
    "l = 4   ## m\n",
    "theta = sp.atan(1/2) \n",
    "\n",
    "# qz en qx definiëren\n",
    "qz = -Av * sf(x, 0, -1) + MA * sf(x, 0, -2) + F * sf(x, l, -1)\n",
    "qx = Ah * sf(x, 0, -1) - F * sf(x, l, -1)"
   ]
  },
  {
   "cell_type": "code",
   "execution_count": 26,
   "metadata": {},
   "outputs": [],
   "source": [
    "# V definiëren als een functie van x\n",
    "V = sp.integrate(-qx * sp.sin(theta), x) + sp.integrate(-qz * sp.cos(theta), x) + Cv\n",
    "# N definiëren als een functie van x\n",
    "N = sp.integrate(-qx * sp.cos(theta), x) + sp.integrate(qz * sp.sin(theta), x) + Cn"
   ]
  },
  {
   "cell_type": "code",
   "execution_count": 27,
   "metadata": {},
   "outputs": [],
   "source": [
    "# N definiëren als een functie van x\n",
    "M = sp.integrate(V/sp.cos(theta), x) + Cm\n",
    "\n",
    "# phi definiëren als een functie van x\n",
    "phi = sp.integrate(M, x) + Cphi\n",
    "\n",
    "# W definiëren als een functie van x\n",
    "W = sp.integrate(-phi, x) + Cw"
   ]
  },
  {
   "cell_type": "code",
   "execution_count": 28,
   "metadata": {},
   "outputs": [],
   "source": [
    "# u definiëren als een functie van x\n",
    "u = sp.integrate(N, x) + Cu"
   ]
  },
  {
   "cell_type": "code",
   "execution_count": 29,
   "metadata": {},
   "outputs": [
    {
     "data": {
      "text/plain": [
       "'V:'"
      ]
     },
     "metadata": {},
     "output_type": "display_data"
    },
    {
     "data": {
      "text/latex": [
       "$\\displaystyle - 0.447213595499958 Ah {\\left\\langle x \\right\\rangle}^{0} + 0.894427190999916 Av {\\left\\langle x \\right\\rangle}^{0} + Cv - 0.894427190999916 MA {\\left\\langle x \\right\\rangle}^{-1} - 4.47213595499958 {\\left\\langle x - 4 \\right\\rangle}^{0}$"
      ],
      "text/plain": [
       "-0.447213595499958*Ah*SingularityFunction(x, 0, 0) + 0.894427190999916*Av*SingularityFunction(x, 0, 0) + Cv - 0.894427190999916*MA*SingularityFunction(x, 0, -1) - 4.47213595499958*SingularityFunction(x, 4, 0)"
      ]
     },
     "metadata": {},
     "output_type": "display_data"
    },
    {
     "data": {
      "text/plain": [
       "'M:'"
      ]
     },
     "metadata": {},
     "output_type": "display_data"
    },
    {
     "data": {
      "text/latex": [
       "$\\displaystyle - 0.5 Ah {\\left\\langle x \\right\\rangle}^{1} + 1.0 Av {\\left\\langle x \\right\\rangle}^{1} + Cm + 1.11803398874989 Cv x - 1.0 MA {\\left\\langle x \\right\\rangle}^{0} - 5.0 {\\left\\langle x - 4 \\right\\rangle}^{1}$"
      ],
      "text/plain": [
       "-0.5*Ah*SingularityFunction(x, 0, 1) + 1.0*Av*SingularityFunction(x, 0, 1) + Cm + 1.11803398874989*Cv*x - 1.0*MA*SingularityFunction(x, 0, 0) - 5.0*SingularityFunction(x, 4, 1)"
      ]
     },
     "metadata": {},
     "output_type": "display_data"
    },
    {
     "data": {
      "text/plain": [
       "'phi:'"
      ]
     },
     "metadata": {},
     "output_type": "display_data"
    },
    {
     "data": {
      "text/latex": [
       "$\\displaystyle - 0.25 Ah {\\left\\langle x \\right\\rangle}^{2} + 0.5 Av {\\left\\langle x \\right\\rangle}^{2} + Cm x + Cphi + 0.559016994374947 Cv x^{2} - 1.0 MA {\\left\\langle x \\right\\rangle}^{1} - 2.5 {\\left\\langle x - 4 \\right\\rangle}^{2}$"
      ],
      "text/plain": [
       "-0.25*Ah*SingularityFunction(x, 0, 2) + 0.5*Av*SingularityFunction(x, 0, 2) + Cm*x + Cphi + 0.559016994374947*Cv*x**2 - 1.0*MA*SingularityFunction(x, 0, 1) - 2.5*SingularityFunction(x, 4, 2)"
      ]
     },
     "metadata": {},
     "output_type": "display_data"
    },
    {
     "data": {
      "text/plain": [
       "'W:'"
      ]
     },
     "metadata": {},
     "output_type": "display_data"
    },
    {
     "data": {
      "text/latex": [
       "$\\displaystyle 0.0833333333333333 Ah {\\left\\langle x \\right\\rangle}^{3} - 0.166666666666667 Av {\\left\\langle x \\right\\rangle}^{3} - \\frac{Cm x^{2}}{2} - Cphi x - 0.186338998124982 Cv x^{3} + Cw + 0.5 MA {\\left\\langle x \\right\\rangle}^{2} + 0.833333333333333 {\\left\\langle x - 4 \\right\\rangle}^{3}$"
      ],
      "text/plain": [
       "0.0833333333333333*Ah*SingularityFunction(x, 0, 3) - 0.166666666666667*Av*SingularityFunction(x, 0, 3) - Cm*x**2/2 - Cphi*x - 0.186338998124982*Cv*x**3 + Cw + 0.5*MA*SingularityFunction(x, 0, 2) + 0.833333333333333*SingularityFunction(x, 4, 3)"
      ]
     },
     "metadata": {},
     "output_type": "display_data"
    },
    {
     "data": {
      "text/plain": [
       "'N:'"
      ]
     },
     "metadata": {},
     "output_type": "display_data"
    },
    {
     "data": {
      "text/latex": [
       "$\\displaystyle - 0.894427190999916 Ah {\\left\\langle x \\right\\rangle}^{0} - 0.447213595499958 Av {\\left\\langle x \\right\\rangle}^{0} + Cn + 0.447213595499958 MA {\\left\\langle x \\right\\rangle}^{-1} + 13.4164078649987 {\\left\\langle x - 4 \\right\\rangle}^{0}$"
      ],
      "text/plain": [
       "-0.894427190999916*Ah*SingularityFunction(x, 0, 0) - 0.447213595499958*Av*SingularityFunction(x, 0, 0) + Cn + 0.447213595499958*MA*SingularityFunction(x, 0, -1) + 13.4164078649987*SingularityFunction(x, 4, 0)"
      ]
     },
     "metadata": {},
     "output_type": "display_data"
    },
    {
     "data": {
      "text/plain": [
       "'u:'"
      ]
     },
     "metadata": {},
     "output_type": "display_data"
    },
    {
     "data": {
      "text/latex": [
       "$\\displaystyle - 0.894427190999916 Ah {\\left\\langle x \\right\\rangle}^{1} - 0.447213595499958 Av {\\left\\langle x \\right\\rangle}^{1} + Cn x + Cu + 0.447213595499958 MA {\\left\\langle x \\right\\rangle}^{0} + 13.4164078649987 {\\left\\langle x - 4 \\right\\rangle}^{1}$"
      ],
      "text/plain": [
       "-0.894427190999916*Ah*SingularityFunction(x, 0, 1) - 0.447213595499958*Av*SingularityFunction(x, 0, 1) + Cn*x + Cu + 0.447213595499958*MA*SingularityFunction(x, 0, 0) + 13.4164078649987*SingularityFunction(x, 4, 1)"
      ]
     },
     "metadata": {},
     "output_type": "display_data"
    }
   ],
   "source": [
    "display(\"V:\", V)\n",
    "display(\"M:\", M)\n",
    "display(\"phi:\", phi)\n",
    "display(\"W:\", W)\n",
    "display(\"N:\", N)\n",
    "display(\"u:\", u)"
   ]
  },
  {
   "cell_type": "code",
   "execution_count": 30,
   "metadata": {},
   "outputs": [],
   "source": [
    "## Voorwarden\n",
    "\n",
    "eq1 = V.subs(x, -1)\n",
    "eq2 = V.subs(x, l+0.1) \n",
    "\n",
    "eq3 = M.subs(x, -1)\n",
    "eq4 = M.subs(x, l)\n",
    "\n",
    "eq5 = phi.subs(x, 0)\n",
    "eq6 = W.subs(x, 0)\n",
    "\n",
    "eq7 = N.subs(x, -1)\n",
    "eq8 = N.subs(x, l+0.1)\n",
    "eq9 = u.subs(x, 0)\n",
    "equations = [eq1 -0, eq2-0,eq3-0,eq4-0,eq5-0,eq6-0, eq7-0, eq8 -0, eq9 -0]\n",
    "solutions = sp.solve(equations, (Cv, Cm, Cphi, Cw, Av, MA, Ah, Cn, Cu))"
   ]
  },
  {
   "cell_type": "code",
   "execution_count": 31,
   "metadata": {},
   "outputs": [
    {
     "name": "stdout",
     "output_type": "stream",
     "text": [
      "{Cv: 0.0, Cm: 0.0, Cphi: 0.0, Cw: 0.0, Av: 9.99999999999998, MA: 20.0000000000000, Ah: 9.99999999999996, Cn: 0.0, Cu: -8.94427190999916}\n"
     ]
    }
   ],
   "source": [
    "print(solutions)"
   ]
  },
  {
   "cell_type": "markdown",
   "metadata": {},
   "source": [
    "V-lijn"
   ]
  },
  {
   "cell_type": "code",
   "execution_count": 32,
   "metadata": {},
   "outputs": [],
   "source": [
    "x_val = np.linspace(0, 4.47213595499958, 901)\n",
    "V_numpy = sp.lambdify(x,V.subs(solutions).rewrite(sp.Piecewise).simplify()) #substitute full solution, make python function of formula\n",
    "V_list = V_numpy(x_val)\n",
    "#print(V_list)"
   ]
  },
  {
   "cell_type": "code",
   "execution_count": 33,
   "metadata": {},
   "outputs": [
    {
     "data": {
      "image/png": "[encoded data removed]",
      "text/plain": [
       "<Figure size 720x360 with 1 Axes>"
      ]
     },
     "metadata": {
      "needs_background": "light"
     },
     "output_type": "display_data"
    }
   ],
   "source": [
    "fig = plt.figure(figsize=(10, 5))\n",
    "ax = fig.add_subplot(1, 1, 1)\n",
    "ax.set_xlim(0, 4.48)\n",
    "ax.set_ylim(0, 6)\n",
    "\n",
    "ax.spines[\"left\"].set_position(\"zero\")\n",
    "ax.spines[\"right\"].set_visible(False)\n",
    "ax.spines[\"bottom\"].set_position(\"zero\")\n",
    "ax.spines[\"top\"].set_visible(False)\n",
    "\n",
    "\n",
    "ax.set_xlabel(\"$V-lijn$\")\n",
    "ax.xaxis.set_label_coords(0.53, 1.04)\n",
    "plt.text(2, 2.4, f'{V_list[100]:.2f}', fontsize=25, color='red')\n",
    "plt.gca()\n",
    "ax.plot(x_val/sp.cos(theta), np.array(V_list) , label='V-lijn')\n",
    "plt.savefig('V_lijnvoorbeeld2', dpi=450);"
   ]
  },
  {
   "cell_type": "code",
   "execution_count": 34,
   "metadata": {},
   "outputs": [],
   "source": [
    "x_val = np.linspace(0, l, 901)\n",
    "M_numpy = sp.lambdify(x,M.subs(solutions).rewrite(sp.Piecewise).simplify()) #substitute full solution, make python function of formula\n",
    "M_list = M_numpy(x_val)"
   ]
  },
  {
   "cell_type": "code",
   "execution_count": 35,
   "metadata": {},
   "outputs": [
    {
     "data": {
      "image/png": "[encoded data removed]",
      "text/plain": [
       "<Figure size 720x360 with 1 Axes>"
      ]
     },
     "metadata": {
      "needs_background": "light"
     },
     "output_type": "display_data"
    }
   ],
   "source": [
    "fig = plt.figure(figsize=(10, 5))\n",
    "ax = fig.add_subplot(1, 1, 1)\n",
    "ax.set_xlim(0, 4.48)\n",
    "ax.set_ylim(-5, 20)\n",
    "\n",
    "ax.spines[\"left\"].set_position(\"zero\")\n",
    "ax.spines[\"right\"].set_visible(False)\n",
    "ax.spines[\"bottom\"].set_position(\"zero\")\n",
    "ax.spines[\"top\"].set_visible(False)\n",
    "\n",
    "\n",
    "ax.set_xlabel(\"$M-lijn$\")\n",
    "ax.xaxis.set_label_coords(0.53, 1.04)\n",
    "plt.gca()\n",
    "ax.plot(x_val/sp.cos(theta), - np.array(M_list) , label='M-lijn');\n",
    "plt.savefig('M_lijnvoorbeeld2', dpi=450);"
   ]
  },
  {
   "cell_type": "code",
   "execution_count": 36,
   "metadata": {},
   "outputs": [],
   "source": [
    "x_val = np.linspace(0, l, 901)\n",
    "phi_numpy = sp.lambdify(x,phi.subs(solutions).rewrite(sp.Piecewise).simplify()) #substitute full solution, make python function of formula\n",
    "phi_list = phi_numpy(x_val)"
   ]
  },
  {
   "cell_type": "code",
   "execution_count": 37,
   "metadata": {},
   "outputs": [
    {
     "data": {
      "image/png": "[encoded data removed]",
      "text/plain": [
       "<Figure size 720x360 with 1 Axes>"
      ]
     },
     "metadata": {
      "needs_background": "light"
     },
     "output_type": "display_data"
    }
   ],
   "source": [
    "fig = plt.figure(figsize=(10, 5))\n",
    "ax = fig.add_subplot(1, 1, 1)\n",
    "ax.set_xlim(0, 4.48)\n",
    "ax.set_ylim(-40, 5)\n",
    "\n",
    "ax.spines[\"left\"].set_position(\"zero\")\n",
    "ax.spines[\"right\"].set_visible(False)\n",
    "ax.spines[\"bottom\"].set_position(\"zero\")\n",
    "ax.spines[\"top\"].set_visible(False)\n",
    "\n",
    "\n",
    "ax.set_xlabel(\"$EI*phi-lijn$\")\n",
    "ax.xaxis.set_label_coords(0.53, 1.04)\n",
    "plt.gca()\n",
    "ax.plot(x_val/sp.cos(theta), np.array(phi_list) , label='phi-lijn')\n",
    "plt.savefig('phi_lijnvoorbeeld2', dpi=450);"
   ]
  },
  {
   "cell_type": "markdown",
   "metadata": {},
   "source": [
    "w-lijn"
   ]
  },
  {
   "cell_type": "code",
   "execution_count": 38,
   "metadata": {},
   "outputs": [],
   "source": [
    "x_val = np.linspace(0, l, 901)\n",
    "W_numpy = sp.lambdify(x,W.subs(solutions).rewrite(sp.Piecewise).simplify()) #substitute full solution, make python function of formula\n",
    "W_list = W_numpy(x_val)"
   ]
  },
  {
   "cell_type": "code",
   "execution_count": 39,
   "metadata": {},
   "outputs": [
    {
     "data": {
      "image/png": "[encoded data removed]",
      "text/plain": [
       "<Figure size 720x360 with 1 Axes>"
      ]
     },
     "metadata": {
      "needs_background": "light"
     },
     "output_type": "display_data"
    }
   ],
   "source": [
    "fig = plt.figure(figsize=(10, 5))\n",
    "ax = fig.add_subplot(1, 1, 1)\n",
    "ax.set_xlim(0, 4.48)\n",
    "ax.set_ylim(-120, 2)\n",
    "\n",
    "ax.spines[\"left\"].set_position(\"zero\")\n",
    "ax.spines[\"right\"].set_visible(False)\n",
    "ax.spines[\"bottom\"].set_position(\"zero\")\n",
    "ax.spines[\"top\"].set_visible(False)\n",
    "\n",
    "\n",
    "ax.set_xlabel(\"$EI*w-lijn$\")\n",
    "ax.xaxis.set_label_coords(0.53, 1.04)\n",
    "plt.gca()\n",
    "ax.plot(x_val/sp.cos(theta), - np.array(W_list) , label='w-lijn')\n",
    "plt.savefig('w_lijnvoorbeeld2', dpi=450);"
   ]
  },
  {
   "cell_type": "markdown",
   "metadata": {},
   "source": [
    "N-lijn"
   ]
  },
  {
   "cell_type": "code",
   "execution_count": 40,
   "metadata": {},
   "outputs": [],
   "source": [
    "x_val = np.linspace(0, 4.47213595499958, 901)\n",
    "N_numpy = sp.lambdify(x,N.subs(solutions).rewrite(sp.Piecewise).simplify()) #substitute full solution, make python function of formula\n",
    "N_list = N_numpy(x_val)"
   ]
  },
  {
   "cell_type": "code",
   "execution_count": 41,
   "metadata": {},
   "outputs": [
    {
     "data": {
      "image/png": "[encoded data removed]",
      "text/plain": [
       "<Figure size 720x360 with 1 Axes>"
      ]
     },
     "metadata": {
      "needs_background": "light"
     },
     "output_type": "display_data"
    }
   ],
   "source": [
    "fig = plt.figure(figsize=(10, 5))\n",
    "ax = fig.add_subplot(1, 1, 1)\n",
    "ax.set_xlim(0, 4.48)\n",
    "ax.set_ylim(-15, 0)\n",
    "\n",
    "ax.spines[\"left\"].set_position(\"zero\")\n",
    "ax.spines[\"right\"].set_visible(False)\n",
    "ax.spines[\"bottom\"].set_position(\"zero\")\n",
    "ax.spines[\"top\"].set_visible(False)\n",
    "\n",
    "ax.set_xlabel(\"$N-lijn$\")\n",
    "ax.xaxis.set_label_coords(0.53, 1.04)\n",
    "plt.text(1.8, -6.3, f'{N_list[100]:.2f}', fontsize=25, color='red')\n",
    "plt.gca()\n",
    "ax.plot(x_val/sp.cos(theta),  np.array(N_list) , label='N-lijn')\n",
    "plt.savefig('N_lijnvoorbeeld2', dpi=450);"
   ]
  },
  {
   "cell_type": "code",
   "execution_count": 42,
   "metadata": {},
   "outputs": [],
   "source": [
    "x_val = np.linspace(0, l, 901)\n",
    "u_numpy = sp.lambdify(x,u.subs(solutions).rewrite(sp.Piecewise).simplify()) #substitute full solution, make python function of formula\n",
    "u_list = u_numpy(x_val)"
   ]
  },
  {
   "cell_type": "code",
   "execution_count": 43,
   "metadata": {},
   "outputs": [
    {
     "data": {
      "image/png": "[encoded data removed]",
      "text/plain": [
       "<Figure size 720x360 with 1 Axes>"
      ]
     },
     "metadata": {
      "needs_background": "light"
     },
     "output_type": "display_data"
    }
   ],
   "source": [
    "fig = plt.figure(figsize=(10, 5))\n",
    "ax = fig.add_subplot(1, 1, 1)\n",
    "ax.set_xlim(0, 5)\n",
    "ax.set_ylim(-60, 4.48)\n",
    "\n",
    "ax.spines[\"left\"].set_position(\"zero\")\n",
    "ax.spines[\"right\"].set_visible(False)\n",
    "ax.spines[\"bottom\"].set_position(\"zero\")\n",
    "ax.spines[\"top\"].set_visible(False)\n",
    "\n",
    "\n",
    "ax.set_xlabel(\"$EA*u-lijn$\")\n",
    "ax.xaxis.set_label_coords(0.53, 1.04)\n",
    "plt.gca()\n",
    "ax.plot(x_val/sp.cos(theta),  np.array(u_list) , label='u-lijn')\n",
    "plt.savefig('u_lijnvoorbeeld2', dpi=450);"
   ]
  },
  {
   "cell_type": "markdown",
   "metadata": {},
   "source": [
    "# Voorbeeld 3"
   ]
  },
  {
   "cell_type": "code",
   "execution_count": 44,
   "metadata": {},
   "outputs": [],
   "source": [
    "Cv, Cm, Cphi, Cw, Av, Bv, Ah, Cn, MA = sp.symbols('Cv, Cm, Cphi, Cw, Av, Bv, Ah, Cn, MA')\n",
    "\n",
    "# F, l en theta definiëren \n",
    "F = 10  ## KN\n",
    "l = 4   ## m\n",
    "T = 10\n",
    "theta = sp.atan(1/2) \n",
    "\n",
    "# qz en qx definiëren\n",
    "qz = -Av * sf(x, 0, -1) + MA*sf(x, 0, -2) - Bv * sf(x, l, -1) + T *sf(x, l/4, -2)\n",
    "qx = Ah * sf(x, 0, -1) -F*sf(x, l/2, -1) "
   ]
  },
  {
   "cell_type": "code",
   "execution_count": 45,
   "metadata": {},
   "outputs": [],
   "source": [
    "# V definiëren als een functie van x\n",
    "V = sp.integrate(-qx * sp.sin(theta), x) + sp.integrate(-qz * sp.cos(theta), x) + Cv\n",
    "# N definiëren als een functie van x\n",
    "N = sp.integrate(-qx * sp.cos(theta), x) + sp.integrate(qz * sp.sin(theta), x) + Cn"
   ]
  },
  {
   "cell_type": "code",
   "execution_count": 46,
   "metadata": {},
   "outputs": [],
   "source": [
    "# N definiëren als een functie van x\n",
    "M = sp.integrate(V/sp.cos(theta), x) + Cm\n",
    "\n",
    "# phi definiëren als een functie van x\n",
    "phi = sp.integrate(M, x) + Cphi\n",
    "\n",
    "# W definiëren als een functie van x\n",
    "W = sp.integrate(-phi, x) + Cw"
   ]
  },
  {
   "cell_type": "code",
   "execution_count": 47,
   "metadata": {},
   "outputs": [],
   "source": [
    "# u definiëren als een functie van x\n",
    "u = sp.integrate(N, x) + Cu"
   ]
  },
  {
   "cell_type": "code",
   "execution_count": 48,
   "metadata": {},
   "outputs": [
    {
     "data": {
      "text/plain": [
       "'V:'"
      ]
     },
     "metadata": {},
     "output_type": "display_data"
    },
    {
     "data": {
      "text/latex": [
       "$\\displaystyle - 0.447213595499958 Ah {\\left\\langle x \\right\\rangle}^{0} + 0.894427190999916 Av {\\left\\langle x \\right\\rangle}^{0} + 0.894427190999916 Bv {\\left\\langle x - 4 \\right\\rangle}^{0} + Cv - 0.894427190999916 MA {\\left\\langle x \\right\\rangle}^{-1} - 8.94427190999916 {\\left\\langle x - 1.0 \\right\\rangle}^{-1} + 4.47213595499958 {\\left\\langle x - 2.0 \\right\\rangle}^{0}$"
      ],
      "text/plain": [
       "-0.447213595499958*Ah*SingularityFunction(x, 0, 0) + 0.894427190999916*Av*SingularityFunction(x, 0, 0) + 0.894427190999916*Bv*SingularityFunction(x, 4, 0) + Cv - 0.894427190999916*MA*SingularityFunction(x, 0, -1) - 8.94427190999916*SingularityFunction(x, 1.0, -1) + 4.47213595499958*SingularityFunction(x, 2.0, 0)"
      ]
     },
     "metadata": {},
     "output_type": "display_data"
    },
    {
     "data": {
      "text/plain": [
       "'M:'"
      ]
     },
     "metadata": {},
     "output_type": "display_data"
    },
    {
     "data": {
      "text/latex": [
       "$\\displaystyle - 0.5 Ah {\\left\\langle x \\right\\rangle}^{1} + 1.0 Av {\\left\\langle x \\right\\rangle}^{1} + 1.0 Bv {\\left\\langle x - 4 \\right\\rangle}^{1} + Cm + 1.11803398874989 Cv x - 1.0 MA {\\left\\langle x \\right\\rangle}^{0} - 10.0 {\\left\\langle x - 1.0 \\right\\rangle}^{0} + 5.0 {\\left\\langle x - 2.0 \\right\\rangle}^{1}$"
      ],
      "text/plain": [
       "-0.5*Ah*SingularityFunction(x, 0, 1) + 1.0*Av*SingularityFunction(x, 0, 1) + 1.0*Bv*SingularityFunction(x, 4, 1) + Cm + 1.11803398874989*Cv*x - 1.0*MA*SingularityFunction(x, 0, 0) - 10.0*SingularityFunction(x, 1.0, 0) + 5.0*SingularityFunction(x, 2.0, 1)"
      ]
     },
     "metadata": {},
     "output_type": "display_data"
    },
    {
     "data": {
      "text/plain": [
       "'phi:'"
      ]
     },
     "metadata": {},
     "output_type": "display_data"
    },
    {
     "data": {
      "text/latex": [
       "$\\displaystyle - 0.25 Ah {\\left\\langle x \\right\\rangle}^{2} + 0.5 Av {\\left\\langle x \\right\\rangle}^{2} + 0.5 Bv {\\left\\langle x - 4 \\right\\rangle}^{2} + Cm x + Cphi + 0.559016994374947 Cv x^{2} - 1.0 MA {\\left\\langle x \\right\\rangle}^{1} - 10.0 {\\left\\langle x - 1.0 \\right\\rangle}^{1} + 2.5 {\\left\\langle x - 2.0 \\right\\rangle}^{2}$"
      ],
      "text/plain": [
       "-0.25*Ah*SingularityFunction(x, 0, 2) + 0.5*Av*SingularityFunction(x, 0, 2) + 0.5*Bv*SingularityFunction(x, 4, 2) + Cm*x + Cphi + 0.559016994374947*Cv*x**2 - 1.0*MA*SingularityFunction(x, 0, 1) - 10.0*SingularityFunction(x, 1.0, 1) + 2.5*SingularityFunction(x, 2.0, 2)"
      ]
     },
     "metadata": {},
     "output_type": "display_data"
    },
    {
     "data": {
      "text/plain": [
       "'W:'"
      ]
     },
     "metadata": {},
     "output_type": "display_data"
    },
    {
     "data": {
      "text/latex": [
       "$\\displaystyle 0.0833333333333333 Ah {\\left\\langle x \\right\\rangle}^{3} - 0.166666666666667 Av {\\left\\langle x \\right\\rangle}^{3} - 0.166666666666667 Bv {\\left\\langle x - 4 \\right\\rangle}^{3} - \\frac{Cm x^{2}}{2} - Cphi x - 0.186338998124982 Cv x^{3} + Cw + 0.5 MA {\\left\\langle x \\right\\rangle}^{2} + 5.0 {\\left\\langle x - 1.0 \\right\\rangle}^{2} - 0.833333333333333 {\\left\\langle x - 2.0 \\right\\rangle}^{3}$"
      ],
      "text/plain": [
       "0.0833333333333333*Ah*SingularityFunction(x, 0, 3) - 0.166666666666667*Av*SingularityFunction(x, 0, 3) - 0.166666666666667*Bv*SingularityFunction(x, 4, 3) - Cm*x**2/2 - Cphi*x - 0.186338998124982*Cv*x**3 + Cw + 0.5*MA*SingularityFunction(x, 0, 2) + 5.0*SingularityFunction(x, 1.0, 2) - 0.833333333333333*SingularityFunction(x, 2.0, 3)"
      ]
     },
     "metadata": {},
     "output_type": "display_data"
    },
    {
     "data": {
      "text/plain": [
       "'N:'"
      ]
     },
     "metadata": {},
     "output_type": "display_data"
    },
    {
     "data": {
      "text/latex": [
       "$\\displaystyle - 0.894427190999916 Ah {\\left\\langle x \\right\\rangle}^{0} - 0.447213595499958 Av {\\left\\langle x \\right\\rangle}^{0} - 0.447213595499958 Bv {\\left\\langle x - 4 \\right\\rangle}^{0} + Cn + 0.447213595499958 MA {\\left\\langle x \\right\\rangle}^{-1} + 4.47213595499958 {\\left\\langle x - 1.0 \\right\\rangle}^{-1} + 8.94427190999916 {\\left\\langle x - 2.0 \\right\\rangle}^{0}$"
      ],
      "text/plain": [
       "-0.894427190999916*Ah*SingularityFunction(x, 0, 0) - 0.447213595499958*Av*SingularityFunction(x, 0, 0) - 0.447213595499958*Bv*SingularityFunction(x, 4, 0) + Cn + 0.447213595499958*MA*SingularityFunction(x, 0, -1) + 4.47213595499958*SingularityFunction(x, 1.0, -1) + 8.94427190999916*SingularityFunction(x, 2.0, 0)"
      ]
     },
     "metadata": {},
     "output_type": "display_data"
    },
    {
     "data": {
      "text/plain": [
       "'u:'"
      ]
     },
     "metadata": {},
     "output_type": "display_data"
    },
    {
     "data": {
      "text/latex": [
       "$\\displaystyle - 0.894427190999916 Ah {\\left\\langle x \\right\\rangle}^{1} - 0.447213595499958 Av {\\left\\langle x \\right\\rangle}^{1} - 0.447213595499958 Bv {\\left\\langle x - 4 \\right\\rangle}^{1} + Cn x + Cu + 0.447213595499958 MA {\\left\\langle x \\right\\rangle}^{0} + 4.47213595499958 {\\left\\langle x - 1.0 \\right\\rangle}^{0} + 8.94427190999916 {\\left\\langle x - 2.0 \\right\\rangle}^{1}$"
      ],
      "text/plain": [
       "-0.894427190999916*Ah*SingularityFunction(x, 0, 1) - 0.447213595499958*Av*SingularityFunction(x, 0, 1) - 0.447213595499958*Bv*SingularityFunction(x, 4, 1) + Cn*x + Cu + 0.447213595499958*MA*SingularityFunction(x, 0, 0) + 4.47213595499958*SingularityFunction(x, 1.0, 0) + 8.94427190999916*SingularityFunction(x, 2.0, 1)"
      ]
     },
     "metadata": {},
     "output_type": "display_data"
    }
   ],
   "source": [
    "display(\"V:\", V)\n",
    "display(\"M:\", M)\n",
    "display(\"phi:\", phi)\n",
    "display(\"W:\", W)\n",
    "display(\"N:\", N)\n",
    "display(\"u:\", u)"
   ]
  },
  {
   "cell_type": "code",
   "execution_count": 49,
   "metadata": {},
   "outputs": [],
   "source": [
    "eq1 = V.subs(x, -1)\n",
    "eq2 = V.subs(x, l+1) \n",
    "\n",
    "eq3 = M.subs(x, -1)\n",
    "eq4 = M.subs(x, l)\n",
    "\n",
    "eq5 = W.subs(x, 0)\n",
    "eq6 = phi.subs(x, 0)\n",
    "\n",
    "eq7 = N.subs(x, -1)\n",
    "eq8 = W.subs(x, l)\n",
    "eq9 = N.subs(x, l+1)\n",
    "\n",
    "eq10 = u.subs(x, 0)\n",
    "equations = [eq1 - 0, eq2 - 0 , eq3 - 0, eq4 - 0, eq5 - 0, eq6 - 0, eq7 - 0, eq8 -0, eq9 - 0, eq10]\n",
    "solutions = sp.solve(equations, (Cv, Cm, Cphi, Cw, Av, MA, Cn, Ah, Bv, Cu))"
   ]
  },
  {
   "cell_type": "code",
   "execution_count": 50,
   "metadata": {},
   "outputs": [
    {
     "name": "stdout",
     "output_type": "stream",
     "text": [
      "{Cv: 0.0, Cm: 0.0, Cphi: 0.0, Cw: 0.0, Av: 3.20312500000000, MA: -7.18750000000000, Cn: 0.0, Ah: 10.0000000000000, Bv: -3.20312500000000, Cu: 3.21434771765595}\n"
     ]
    }
   ],
   "source": [
    "print(solutions)"
   ]
  },
  {
   "cell_type": "code",
   "execution_count": 51,
   "metadata": {},
   "outputs": [],
   "source": [
    "x_val = np.linspace(0, 4.4721359549995, 901)\n",
    "V_numpy = sp.lambdify(x,V.subs(solutions).rewrite(sp.Piecewise).simplify()) #substitute full solution, make python function of formula\n",
    "V_list = V_numpy(x_val)\n"
   ]
  },
  {
   "cell_type": "code",
   "execution_count": 52,
   "metadata": {},
   "outputs": [
    {
     "data": {
      "image/png": "[encoded data removed]",
      "text/plain": [
       "<Figure size 720x360 with 1 Axes>"
      ]
     },
     "metadata": {
      "needs_background": "light"
     },
     "output_type": "display_data"
    }
   ],
   "source": [
    "fig = plt.figure(figsize=(10, 5))\n",
    "ax = fig.add_subplot(1, 1, 1)\n",
    "ax.set_xlim(0, 4.48)\n",
    "ax.set_ylim(-3, 6)\n",
    "\n",
    "ax.spines[\"left\"].set_position(\"zero\")\n",
    "ax.spines[\"right\"].set_visible(False)\n",
    "ax.spines[\"bottom\"].set_position(\"zero\")\n",
    "ax.spines[\"top\"].set_visible(False)\n",
    "\n",
    "\n",
    "ax.set_xlabel(\"$V-lijn$\")\n",
    "ax.xaxis.set_label_coords(0.53, 1.04)\n",
    "plt.gca()\n",
    "ax.plot(x_val/sp.cos(theta), np.array(V_list) , label='V-lijn')\n",
    "plt.savefig('V_lijnvoorbeeld3', dpi=450);"
   ]
  },
  {
   "cell_type": "code",
   "execution_count": 53,
   "metadata": {},
   "outputs": [],
   "source": [
    "x_val = np.linspace(0, l, 901)\n",
    "M_numpy = sp.lambdify(x,M.subs(solutions).rewrite(sp.Piecewise).simplify()) \n",
    "M_list = M_numpy(x_val)"
   ]
  },
  {
   "cell_type": "code",
   "execution_count": 54,
   "metadata": {},
   "outputs": [
    {
     "data": {
      "image/png": "[encoded data removed]",
      "text/plain": [
       "<Figure size 720x360 with 1 Axes>"
      ]
     },
     "metadata": {
      "needs_background": "light"
     },
     "output_type": "display_data"
    }
   ],
   "source": [
    "fig = plt.figure(figsize=(10, 5))\n",
    "ax = fig.add_subplot(1, 1, 1)\n",
    "ax.set_xlim(0, 4.48)\n",
    "ax.set_ylim(-8, 8)\n",
    "\n",
    "ax.spines[\"left\"].set_position(\"zero\")\n",
    "ax.spines[\"right\"].set_visible(False)\n",
    "ax.spines[\"bottom\"].set_position(\"zero\")\n",
    "ax.spines[\"top\"].set_visible(False)\n",
    "\n",
    "\n",
    "ax.set_xlabel(\"$M-lijn$\")\n",
    "ax.xaxis.set_label_coords(0.53, 1.04)\n",
    "plt.gca()\n",
    "ax.plot(x_val/sp.cos(theta),  -np.array(M_list) , label='M-lijn');\n",
    "plt.savefig('M_lijnvoorbeeld3', dpi=450);"
   ]
  },
  {
   "cell_type": "code",
   "execution_count": 55,
   "metadata": {},
   "outputs": [],
   "source": [
    "x_val = np.linspace(0, l, 901)\n",
    "phi_numpy = sp.lambdify(x,phi.subs(solutions).rewrite(sp.Piecewise).simplify()) #substitute full solution, make python function of formula\n",
    "phi_list = phi_numpy(x_val)"
   ]
  },
  {
   "cell_type": "code",
   "execution_count": 56,
   "metadata": {},
   "outputs": [
    {
     "data": {
      "image/png": "[encoded data removed]",
      "text/plain": [
       "<Figure size 720x360 with 1 Axes>"
      ]
     },
     "metadata": {
      "needs_background": "light"
     },
     "output_type": "display_data"
    }
   ],
   "source": [
    "fig = plt.figure(figsize=(10, 5))\n",
    "ax = fig.add_subplot(1, 1, 1)\n",
    "ax.set_xlim(0, 4.48)\n",
    "ax.set_ylim(-10, 15)\n",
    "\n",
    "ax.spines[\"left\"].set_position(\"zero\")\n",
    "ax.spines[\"right\"].set_visible(False)\n",
    "ax.spines[\"bottom\"].set_position(\"zero\")\n",
    "ax.spines[\"top\"].set_visible(False)\n",
    "\n",
    "\n",
    "ax.set_xlabel(\"$phi*EI-lijn$\")\n",
    "ax.xaxis.set_label_coords(0.53, 1.04)\n",
    "plt.gca()\n",
    "ax.plot(x_val/sp.cos(theta), np.array(phi_list) , label='phi-lijn')\n",
    "plt.savefig('phi_lijnvoorbeeld3', dpi=450);"
   ]
  },
  {
   "cell_type": "code",
   "execution_count": 57,
   "metadata": {},
   "outputs": [],
   "source": [
    "x_val = np.linspace(0, l, 901)\n",
    "W_numpy = sp.lambdify(x,W.subs(solutions).rewrite(sp.Piecewise).simplify()) #substitute full solution, make python function of formula\n",
    "W_list = W_numpy(x_val)"
   ]
  },
  {
   "cell_type": "code",
   "execution_count": 58,
   "metadata": {},
   "outputs": [
    {
     "data": {
      "image/png": "[encoded data removed]",
      "text/plain": [
       "<Figure size 720x360 with 1 Axes>"
      ]
     },
     "metadata": {
      "needs_background": "light"
     },
     "output_type": "display_data"
    }
   ],
   "source": [
    "fig = plt.figure(figsize=(10, 5))\n",
    "ax = fig.add_subplot(1, 1, 1)\n",
    "ax.set_xlim(0, 4.48)\n",
    "ax.set_ylim(2, -10)\n",
    "\n",
    "ax.spines[\"left\"].set_position(\"zero\")\n",
    "ax.spines[\"right\"].set_visible(False)\n",
    "ax.spines[\"bottom\"].set_position(\"zero\")\n",
    "ax.spines[\"top\"].set_visible(False)\n",
    "\n",
    "\n",
    "ax.set_xlabel(\"$EI * w-lijn$\")\n",
    "ax.xaxis.set_label_coords(0.53, 1.04)\n",
    "plt.gca()\n",
    "ax.plot(x_val/sp.cos(theta),  np.array(W_list) , label='w-lijn')\n",
    "plt.savefig('w_lijnvoorbeeld3', dpi=450);"
   ]
  },
  {
   "cell_type": "code",
   "execution_count": 59,
   "metadata": {},
   "outputs": [],
   "source": [
    "x_val = np.linspace(0, 4.47213595499958, 901)\n",
    "N_numpy = sp.lambdify(x,N.subs(solutions).rewrite(sp.Piecewise).simplify()) #substitute full solution, make python function of formula\n",
    "N_list = N_numpy(x_val)"
   ]
  },
  {
   "cell_type": "code",
   "execution_count": 60,
   "metadata": {},
   "outputs": [
    {
     "data": {
      "image/png": "[encoded data removed]",
      "text/plain": [
       "<Figure size 720x360 with 1 Axes>"
      ]
     },
     "metadata": {
      "needs_background": "light"
     },
     "output_type": "display_data"
    }
   ],
   "source": [
    "fig = plt.figure(figsize=(10, 5))\n",
    "ax = fig.add_subplot(1, 1, 1)\n",
    "ax.set_xlim(0, 4.48)\n",
    "ax.set_ylim(-12, 0)\n",
    "\n",
    "ax.spines[\"left\"].set_position(\"zero\")\n",
    "ax.spines[\"right\"].set_visible(False)\n",
    "ax.spines[\"bottom\"].set_position(\"zero\")\n",
    "ax.spines[\"top\"].set_visible(False)\n",
    "\n",
    "ax.set_xlabel(\"$N-lijn$\")\n",
    "ax.xaxis.set_label_coords(0.53, 1.04)\n",
    "plt.gca()\n",
    "ax.plot(x_val/sp.cos(theta),  np.array(N_list) , label='N-lijn')\n",
    "plt.savefig('N_lijnvoorbeeld3', dpi=450);"
   ]
  },
  {
   "cell_type": "code",
   "execution_count": 61,
   "metadata": {},
   "outputs": [],
   "source": [
    "x_val = np.linspace(0, l, 301)\n",
    "u_numpy = sp.lambdify(x,u.subs(solutions).rewrite(sp.Piecewise).simplify()) #substitute full solution, make python function of formula\n",
    "u_list = u_numpy(x_val)"
   ]
  },
  {
   "cell_type": "code",
   "execution_count": 62,
   "metadata": {},
   "outputs": [
    {
     "data": {
      "image/png": "[encoded data removed]",
      "text/plain": [
       "<Figure size 720x360 with 1 Axes>"
      ]
     },
     "metadata": {
      "needs_background": "light"
     },
     "output_type": "display_data"
    }
   ],
   "source": [
    "fig = plt.figure(figsize=(10, 5))\n",
    "ax = fig.add_subplot(1, 1, 1)\n",
    "ax.set_xlim(0, 4.48)\n",
    "ax.set_ylim(0, -25)\n",
    "\n",
    "ax.spines[\"left\"].set_position(\"zero\")\n",
    "ax.spines[\"right\"].set_visible(False)\n",
    "ax.spines[\"bottom\"].set_position(\"zero\")\n",
    "ax.spines[\"top\"].set_visible(False)\n",
    "\n",
    "ax.set_xlabel(\"$EA*u-lijn$\")\n",
    "ax.xaxis.set_label_coords(0.53, 1.04)\n",
    "plt.gca()\n",
    "ax.plot(x_val/sp.cos(theta),  np.array(u_list) , label='N-lijn')\n",
    "plt.savefig('u_lijnvoorbeeld3', dpi=450);"
   ]
  },
  {
   "cell_type": "code",
   "execution_count": null,
   "metadata": {},
   "outputs": [],
   "source": []
  },
  {
   "cell_type": "code",
   "execution_count": null,
   "metadata": {},
   "outputs": [],
   "source": []
  },
  {
   "cell_type": "code",
   "execution_count": null,
   "metadata": {},
   "outputs": [],
   "source": []
  },
  {
   "cell_type": "code",
   "execution_count": null,
   "metadata": {},
   "outputs": [],
   "source": []
  },
  {
   "cell_type": "code",
   "execution_count": null,
   "metadata": {},
   "outputs": [],
   "source": []
  },
  {
   "cell_type": "code",
   "execution_count": null,
   "metadata": {},
   "outputs": [],
   "source": []
  },
  {
   "cell_type": "code",
   "execution_count": null,
   "metadata": {},
   "outputs": [],
   "source": []
  },
  {
   "cell_type": "code",
   "execution_count": null,
   "metadata": {},
   "outputs": [],
   "source": []
  },
  {
   "cell_type": "code",
   "execution_count": null,
   "metadata": {},
   "outputs": [],
   "source": []
  },
  {
   "cell_type": "code",
   "execution_count": null,
   "metadata": {},
   "outputs": [],
   "source": []
  },
  {
   "cell_type": "code",
   "execution_count": null,
   "metadata": {},
   "outputs": [],
   "source": []
  },
  {
   "cell_type": "code",
   "execution_count": null,
   "metadata": {},
   "outputs": [],
   "source": []
  },
  {
   "cell_type": "code",
   "execution_count": null,
   "metadata": {},
   "outputs": [],
   "source": [
    " "
   ]
  },
  {
   "cell_type": "code",
   "execution_count": null,
   "metadata": {},
   "outputs": [],
   "source": []
  },
  {
   "cell_type": "code",
   "execution_count": null,
   "metadata": {},
   "outputs": [],
   "source": []
  },
  {
   "cell_type": "code",
   "execution_count": null,
   "metadata": {},
   "outputs": [],
   "source": []
  },
  {
   "cell_type": "code",
   "execution_count": null,
   "metadata": {},
   "outputs": [],
   "source": []
  },
  {
   "cell_type": "code",
   "execution_count": null,
   "metadata": {},
   "outputs": [],
   "source": []
  },
  {
   "cell_type": "code",
   "execution_count": null,
   "metadata": {},
   "outputs": [],
   "source": []
  },
  {
   "cell_type": "code",
   "execution_count": null,
   "metadata": {},
   "outputs": [],
   "source": []
  },
  {
   "cell_type": "code",
   "execution_count": null,
   "metadata": {},
   "outputs": [],
   "source": []
  },
  {
   "cell_type": "code",
   "execution_count": null,
   "metadata": {},
   "outputs": [],
   "source": []
  },
  {
   "cell_type": "code",
   "execution_count": null,
   "metadata": {},
   "outputs": [],
   "source": []
  },
  {
   "cell_type": "code",
   "execution_count": null,
   "metadata": {},
   "outputs": [],
   "source": []
  },
  {
   "cell_type": "code",
   "execution_count": null,
   "metadata": {},
   "outputs": [],
   "source": []
  },
  {
   "cell_type": "code",
   "execution_count": null,
   "metadata": {},
   "outputs": [],
   "source": []
  },
  {
   "cell_type": "code",
   "execution_count": null,
   "metadata": {},
   "outputs": [],
   "source": []
  },
  {
   "cell_type": "code",
   "execution_count": null,
   "metadata": {},
   "outputs": [],
   "source": []
  },
  {
   "cell_type": "code",
   "execution_count": null,
   "metadata": {},
   "outputs": [],
   "source": []
  },
  {
   "cell_type": "code",
   "execution_count": null,
   "metadata": {},
   "outputs": [],
   "source": []
  },
  {
   "cell_type": "code",
   "execution_count": null,
   "metadata": {},
   "outputs": [],
   "source": []
  },
  {
   "cell_type": "code",
   "execution_count": null,
   "metadata": {},
   "outputs": [],
   "source": []
  },
  {
   "cell_type": "code",
   "execution_count": null,
   "metadata": {},
   "outputs": [],
   "source": []
  },
  {
   "cell_type": "code",
   "execution_count": null,
   "metadata": {},
   "outputs": [],
   "source": []
  },
  {
   "cell_type": "code",
   "execution_count": null,
   "metadata": {},
   "outputs": [],
   "source": []
  },
  {
   "cell_type": "code",
   "execution_count": null,
   "metadata": {},
   "outputs": [],
   "source": []
  },
  {
   "cell_type": "code",
   "execution_count": null,
   "metadata": {},
   "outputs": [],
   "source": []
  },
  {
   "cell_type": "code",
   "execution_count": null,
   "metadata": {},
   "outputs": [],
   "source": []
  }
 ],
 "metadata": {
  "kernelspec": {
   "display_name": "Python 3",
   "language": "python",
   "name": "python3"
  },
  "language_info": {
   "codemirror_mode": {
    "name": "ipython",
    "version": 3
   },
   "file_extension": ".py",
   "mimetype": "text/x-python",
   "name": "python",
   "nbconvert_exporter": "python",
   "pygments_lexer": "ipython3",
   "version": "3.8.3"
  }
 },
 "nbformat": 4,
 "nbformat_minor": 4
}
