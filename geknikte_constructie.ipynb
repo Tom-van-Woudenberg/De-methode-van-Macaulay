{
 "cells": [
  {
   "cell_type": "markdown",
   "metadata": {},
   "source": [
    "# Geknikte constructie"
   ]
  },
  {
   "cell_type": "code",
   "execution_count": 1,
   "metadata": {},
   "outputs": [],
   "source": [
    "import sympy as sp\n",
    "import numpy as np\n",
    "from sympy import symbols\n",
    "sf = sp.SingularityFunction\n",
    "import matplotlib.pyplot as plt"
   ]
  },
  {
   "cell_type": "code",
   "execution_count": 2,
   "metadata": {},
   "outputs": [],
   "source": [
    "EI = symbols('EI')\n",
    "x = symbols('x')"
   ]
  },
  {
   "cell_type": "markdown",
   "metadata": {},
   "source": [
    "#### Benadering"
   ]
  },
  {
   "cell_type": "code",
   "execution_count": 3,
   "metadata": {},
   "outputs": [],
   "source": [
    "x, Cv, Cm, Cphi, Cw, Av, Bv, MA, Ah, Cn= sp.symbols('x, C_v, C_m, C_phi, C_w, A_v, B_v, M_A, A_h, C_n')\n",
    "\n",
    "l = 4\n",
    "F1 = 10\n",
    "F2 = 10\n",
    "\n",
    "theta = sp.atan(0.25)\n",
    "alpha = sp.atan(0.5)"
   ]
  },
  {
   "cell_type": "code",
   "execution_count": 4,
   "metadata": {},
   "outputs": [],
   "source": [
    "## Krachtenvergelijking van staaf 1\n",
    "qz1 = sp.nsimplify(-Av * sf(x, 0, -1) + MA* sf(x, 0, -2) + F1 *sf(x, l/2, -1))\n",
    "qx1 = sp.nsimplify(Ah * sf(x, 0, -1))"
   ]
  },
  {
   "cell_type": "code",
   "execution_count": 5,
   "metadata": {},
   "outputs": [],
   "source": [
    "## Krachtenvergelijking van staaf 2\n",
    "\n",
    "qz2 = sp.nsimplify(-Bv * sf(x, (3/2)*l, -1) + F2 *sf(x, (5/4)*l, -1))\n",
    "qx2 = 0"
   ]
  },
  {
   "cell_type": "code",
   "execution_count": 6,
   "metadata": {},
   "outputs": [],
   "source": [
    "## V = V1 + V2 \n",
    "## Dwarskracht in de eerste staaf \n",
    "V1 = sp.integrate(-qx1 * sp.sin(theta), x) + sp.integrate(-qz1 * sp.cos(theta), x)\n",
    "## Dwasrkracht in de tweede staaf\n",
    "V2 = sp.integrate(-qx2 * sp.sin(alpha), x) + sp.integrate(-qz2 * sp.cos(alpha), x)\n",
    "\n",
    "V = V1 + V2 + Cv"
   ]
  },
  {
   "cell_type": "code",
   "execution_count": 7,
   "metadata": {},
   "outputs": [],
   "source": [
    "## N = N1 + N2 \n",
    "## Normaalkracht in de eerste staaf\n",
    "N1 = sp.integrate(-qx1 * sp.cos(theta), x) + sp.integrate(qz1 * sp.sin(theta), x)\n",
    "## Normaalkracht in de tweedee staaf\n",
    "N2 = sp.integrate(-qx2 * sp.cos(alpha), x) + sp.integrate(qz2 * sp.sin(alpha), x)\n",
    "N = N1 + N2 + Cn"
   ]
  },
  {
   "cell_type": "code",
   "execution_count": 8,
   "metadata": {},
   "outputs": [],
   "source": [
    "M1 = sp.integrate(V1/sp.cos(theta), x)\n",
    "M2 = sp.integrate(V2/sp.cos(alpha), x)\n",
    "M = M1 + M2 + Cm\n",
    "phi = sp.integrate(M, x) + Cphi\n",
    "W = sp.integrate(phi, x) + Cw"
   ]
  },
  {
   "cell_type": "code",
   "execution_count": 9,
   "metadata": {},
   "outputs": [],
   "source": [
    "eq1 = V.subs(x, -1)\n",
    "eq2 = M.subs(x, -1)\n",
    "eq3 = V.subs(x, (3/2)*l + 1)\n",
    "\n",
    "eq4 = phi.subs(x, 0)\n",
    "eq5 = W.subs(x, 0)\n",
    "\n",
    "eq6 = M.subs(x, (3/2)*l)\n",
    "eq7 = W.subs(x, (3/2)*l )\n",
    "\n",
    "eq8 = N.subs(x, -0.01)\n",
    "eq9 = N.subs(x, ((3/2)*l) )\n",
    "\n",
    "equations = [eq1-0, eq2-0, eq3-0, eq4-0, eq5-0, eq6-0, eq7 -0, eq8-0, eq9-0]\n",
    "solutions = sp.solve(equations, (Cn, Cm, Cphi, Cw, Av, Bv, MA, Cv, Ah))"
   ]
  },
  {
   "cell_type": "code",
   "execution_count": 10,
   "metadata": {},
   "outputs": [
    {
     "data": {
      "text/plain": [
       "{C_n: 0.0,\n",
       " C_m: 0.0,\n",
       " C_phi: 0.0,\n",
       " C_w: 0.0,\n",
       " A_v: 11.0539215686274,\n",
       " B_v: 8.92036924928217,\n",
       " M_A: 15.9722222222222,\n",
       " C_v: 0.0,\n",
       " A_h: 0.234204793028313}"
      ]
     },
     "metadata": {},
     "output_type": "display_data"
    }
   ],
   "source": [
    "display(solutions)"
   ]
  },
  {
   "cell_type": "code",
   "execution_count": 11,
   "metadata": {},
   "outputs": [
    {
     "name": "stdout",
     "output_type": "stream",
     "text": [
      "[0.9656511 0.9656511]\n"
     ]
    },
    {
     "data": {
      "image/png": "[encoded data removed]",
      "text/plain": [
       "<Figure size 864x432 with 1 Axes>"
      ]
     },
     "metadata": {
      "needs_background": "light"
     },
     "output_type": "display_data"
    }
   ],
   "source": [
    "x_val = np.linspace(0, 3*l/2, 301)\n",
    "V_numpy = sp.lambdify(x,V.subs(solutions).rewrite(sp.Piecewise).simplify())\n",
    "V_list = V_numpy(x_val)\n",
    "\n",
    "print(V_list[200:202])\n",
    "\n",
    "fig = plt.figure(figsize=(12, 6))\n",
    "ax = fig.add_subplot(1, 1, 1)\n",
    "ax.set_xlim(0, 6)\n",
    "ax.set_ylim(-9, 12)\n",
    "\n",
    "ax.spines[\"left\"].set_position(\"zero\")\n",
    "ax.spines[\"right\"].set_visible(False)\n",
    "ax.spines[\"bottom\"].set_position(\"zero\")\n",
    "ax.spines[\"top\"].set_visible(False)\n",
    "\n",
    "ax.xaxis.set_label_coords(0.53, 1.04)\n",
    "plt.gca()\n",
    "ax.plot(x_val, np.array(V_list));"
   ]
  },
  {
   "cell_type": "code",
   "execution_count": 12,
   "metadata": {},
   "outputs": [
    {
     "name": "stdout",
     "output_type": "stream",
     "text": [
      "[-0.48282555 -0.48282555]\n"
     ]
    },
    {
     "data": {
      "image/png": "[encoded data removed]",
      "text/plain": [
       "<Figure size 864x432 with 1 Axes>"
      ]
     },
     "metadata": {
      "needs_background": "light"
     },
     "output_type": "display_data"
    }
   ],
   "source": [
    "x_val = np.linspace(0, 3*l/2, 301)\n",
    "N_numpy = sp.lambdify(x,N.subs(solutions).rewrite(sp.Piecewise).simplify()) \n",
    "N_list = N_numpy(x_val)\n",
    "\n",
    "print(N_list[200:202])\n",
    "\n",
    "fig = plt.figure(figsize=(12, 6))\n",
    "ax = fig.add_subplot(1, 1, 1)\n",
    "ax.set_xlim(0, 7)\n",
    "ax.set_ylim(-9, 12)\n",
    "\n",
    "ax.spines[\"left\"].set_position(\"zero\")\n",
    "ax.spines[\"right\"].set_visible(False)\n",
    "ax.spines[\"bottom\"].set_position(\"zero\")\n",
    "ax.spines[\"top\"].set_visible(False)\n",
    "\n",
    "ax.xaxis.set_label_coords(0.53, 1.04)\n",
    "plt.gca()\n",
    "ax.plot(x_val, np.array(N_list)); "
   ]
  },
  {
   "cell_type": "markdown",
   "metadata": {},
   "source": [
    "#### Iteratie 1"
   ]
  },
  {
   "cell_type": "code",
   "execution_count": 13,
   "metadata": {},
   "outputs": [],
   "source": [
    "Cv, Cm, Cphi, Cw, Av, Bv, MA, Ah, Cn= sp.symbols('C_v, C_m, C_phi, C_w, A_v, B_v, M_A, A_h, C_n')\n",
    "\n",
    "# Define qz and qx\n",
    "DwaL =  0.9656511\n",
    "DwaR =  0.9656511\n",
    "NorL = -0.48282555\n",
    "NorR = -0.48282555\n",
    "qz1 = sp.nsimplify(-Av * sf(x, 0, -1) + MA* sf(x, 0, -2) + F1 *sf(x, l/2, -1) + DwaL * sf(x, l, -1) * sp.cos(theta)- NorL * sf(x, l, -1) * sp.sin(theta))\n",
    "qz2 = sp.nsimplify(-Bv * sf(x, (3/2)*l, -1) + F2 *sf(x, (5/4)*l, -1) - DwaR *sf(x, l, -1)* sp.cos(alpha) + NorR * sf(x, l, -1)* sp.sin(alpha) )\n",
    "qx1 = sp.nsimplify(Ah * sf(x, 0, -1) + DwaL * sf(x, l, -1) * sp.sin(theta)  + NorL * sf(x, l, -1)* sp.cos(theta))\n",
    "qx2 = sp.nsimplify(-DwaR * sf(x, l, -1)*sp.sin(alpha) -NorR * sf(x, l, -1)* sp.cos(alpha))\n",
    "\n",
    "\n",
    "# Define V as a function of x\n",
    "## staaf 1\n",
    "V1 = sp.cos(theta) * sp.integrate( -qz1 , x)\n",
    "V2 = sp.integrate(- (sp.sin(theta) * sp.tan(theta) * qx1), x)\n",
    "## staaf 2\n",
    "V3 = sp.cos(alpha) * sp.integrate( -qz2 , x)\n",
    "V4 = sp.integrate(- (sp.sin(alpha) * sp.tan(alpha) * qx2), x)\n",
    "\n",
    "V =V1 + V2 + V3 + V4 + Cv\n",
    "\n",
    "# Define M as an integral of V\n",
    "## staaf 1\n",
    "M1 = sp.integrate( (V1  / sp.cos(theta)), x)\n",
    "M2 = sp.integrate( (V2  / sp.cos(theta)), x)\n",
    "## sfaaf 2\n",
    "M3 = sp.integrate((V3 / sp.cos(alpha)), x)\n",
    "M4 = sp.integrate((V4 / sp.cos(alpha)), x)\n",
    "M  = M1 + M2 + M3+ M4 + Cm\n",
    "\n",
    "# Define phi as an integral of M\n",
    "phi = sp.integrate(M, x) + Cphi\n",
    "\n",
    "# Define W as an integral of -phi\n",
    "W = sp.integrate(-phi, x) + Cw\n",
    "\n",
    "N1 = sp.integrate(sp.sin(theta) * (-qx1 + qz1), x) + Cn\n",
    "N2 = sp.integrate(sp.sin(alpha) * (-qx2 + qz2), x) \n",
    "N = N1+ N2 +Cn"
   ]
  },
  {
   "cell_type": "code",
   "execution_count": 14,
   "metadata": {},
   "outputs": [
    {
     "data": {
      "text/plain": [
       "{C_v: 0.0,\n",
       " C_m: 0.0,\n",
       " C_phi: 0.0,\n",
       " C_w: 0.0,\n",
       " A_v: 10.9868559793420,\n",
       " B_v: 8.98907082505678,\n",
       " M_A: 15.9363582385174,\n",
       " C_n: 0.0,\n",
       " A_h: 0.174590935654146}"
      ]
     },
     "metadata": {},
     "output_type": "display_data"
    }
   ],
   "source": [
    "eq1 = V.subs(x, -1)\n",
    "eq2 = M.subs(x, -1)\n",
    "eq3 = V.subs(x, (3/2)*l + 1)\n",
    "eq4 = phi.subs(x, 0)\n",
    "eq5 = W.subs(x, 0)\n",
    "eq6 = M.subs(x, (3/2)*l)\n",
    "eq7 = W.subs(x, (3/2)*l)\n",
    "eq8 = N.subs(x, -0.01)\n",
    "eq9 = N.subs(x, ((3/2)*l) +1 )\n",
    "equations = [eq1-0, eq2-0, eq3-0, eq4-0, eq5-0, eq6-0, eq7 -0, eq8-0, eq9-0]\n",
    "solutions = sp.solve(equations, (Cv, Cm, Cphi, Cw, Av, Bv, MA, Cn, Ah))\n",
    "display(solutions)"
   ]
  },
  {
   "cell_type": "code",
   "execution_count": 15,
   "metadata": {},
   "outputs": [
    {
     "name": "stdout",
     "output_type": "stream",
     "text": [
      "[0.9468048  0.90420254]\n"
     ]
    },
    {
     "data": {
      "image/png": "[encoded data removed]",
      "text/plain": [
       "<Figure size 864x432 with 1 Axes>"
      ]
     },
     "metadata": {
      "needs_background": "light"
     },
     "output_type": "display_data"
    }
   ],
   "source": [
    "x_val = np.linspace(0, 3*l/2, 301)\n",
    "V_numpy = sp.lambdify(x,V.subs(solutions).rewrite(sp.Piecewise).simplify()) \n",
    "V_list = V_numpy(x_val)\n",
    "print(V_list[200:202])\n",
    "\n",
    "fig = plt.figure(figsize=(12, 6))\n",
    "ax = fig.add_subplot(1, 1, 1)\n",
    "ax.set_xlim(0, 6)\n",
    "ax.set_ylim(-9, 12)\n",
    "\n",
    "ax.spines[\"left\"].set_position(\"zero\")\n",
    "ax.spines[\"right\"].set_visible(False)\n",
    "ax.spines[\"bottom\"].set_position(\"zero\")\n",
    "ax.spines[\"top\"].set_visible(False)\n",
    "\n",
    "ax.xaxis.set_label_coords(0.53, 1.04)\n",
    "plt.gca()\n",
    "ax.plot(x_val, np.array(V_list)); "
   ]
  },
  {
   "cell_type": "code",
   "execution_count": 16,
   "metadata": {},
   "outputs": [
    {
     "name": "stdout",
     "output_type": "stream",
     "text": [
      "[-0.28169225 -0.45210127]\n"
     ]
    },
    {
     "data": {
      "image/png": "[encoded data removed]",
      "text/plain": [
       "<Figure size 864x432 with 1 Axes>"
      ]
     },
     "metadata": {
      "needs_background": "light"
     },
     "output_type": "display_data"
    }
   ],
   "source": [
    "x_val = np.linspace(0, 3*l/2, 301)\n",
    "N_numpy = sp.lambdify(x,N.subs(solutions).rewrite(sp.Piecewise).simplify()) \n",
    "N_list = N_numpy(x_val)\n",
    "\n",
    "print(N_list[200:202])\n",
    "\n",
    "fig = plt.figure(figsize=(12, 6))\n",
    "ax = fig.add_subplot(1, 1, 1)\n",
    "ax.set_xlim(0, 6)\n",
    "ax.set_ylim(-4, 12)\n",
    "\n",
    "ax.spines[\"left\"].set_position(\"zero\")\n",
    "ax.spines[\"right\"].set_visible(False)\n",
    "ax.spines[\"bottom\"].set_position(\"zero\")\n",
    "ax.spines[\"top\"].set_visible(False)\n",
    "\n",
    "ax.xaxis.set_label_coords(0.53, 1.04)\n",
    "plt.gca()\n",
    "ax.plot(x_val, np.array(N_list));"
   ]
  },
  {
   "cell_type": "markdown",
   "metadata": {},
   "source": [
    "#### Iteratie 2"
   ]
  },
  {
   "cell_type": "code",
   "execution_count": 17,
   "metadata": {},
   "outputs": [],
   "source": [
    "Cv, Cm, Cphi, Cw, Av, Bv, MA, Ah, Cn= sp.symbols('C_v, C_m, C_phi, C_w, A_v, B_v, M_A, A_h, C_n')\n",
    "\n",
    "# Define qz and qx\n",
    "DwaL =  0.9468048\n",
    "DwaR =  0.90420254\n",
    "NorL = -0.28169225\n",
    "NorR = -0.45210127\n",
    "qz1 = sp.nsimplify(-Av * sf(x, 0, -1) + MA* sf(x, 0, -2) + F1 *sf(x, l/2, -1) + DwaL * sf(x, l, -1) * sp.cos(theta)- NorL * sf(x, l, -1) * sp.sin(theta))\n",
    "qz2 = sp.nsimplify(-Bv * sf(x, (3/2)*l, -1) + F2 *sf(x, (5/4)*l, -1) - DwaR *sf(x, l, -1)* sp.cos(alpha) + NorR * sf(x, l, -1)* sp.sin(alpha) )\n",
    "qx1 = sp.nsimplify(Ah * sf(x, 0, -1) + DwaL * sf(x, l, -1) * sp.sin(theta)  + NorL * sf(x, l, -1)* sp.cos(theta))\n",
    "qx2 = sp.nsimplify(-DwaR * sf(x, l, -1)*sp.sin(alpha) -NorR * sf(x, l, -1)* sp.cos(alpha))\n",
    "\n",
    "\n",
    "# Define V as a function of x\n",
    "## staaf 1\n",
    "V1 = sp.cos(theta) * sp.integrate( -qz1 , x)\n",
    "V2 = sp.integrate(- (sp.sin(theta) * sp.tan(theta) * qx1), x)\n",
    "## staaf 2\n",
    "V3 = sp.cos(alpha) * sp.integrate( -qz2 , x)\n",
    "V4 = sp.integrate(- (sp.sin(alpha) * sp.tan(alpha) * qx2), x)\n",
    "\n",
    "V =V1 + V2 + V3 + V4 + Cv\n",
    "\n",
    "# Define M as an integral of V\n",
    "## staaf 1\n",
    "M1 = sp.integrate( (V1  / sp.cos(theta)), x)\n",
    "M2 = sp.integrate( (V2  / sp.cos(theta)), x)\n",
    "## sfaaf 2\n",
    "M3 = sp.integrate((V3 / sp.cos(alpha)), x)\n",
    "M4 = sp.integrate((V4 / sp.cos(alpha)), x)\n",
    "M  = M1 + M2 + M3+ M4 + Cm\n",
    "\n",
    "# Define phi as an integral of M\n",
    "phi = sp.integrate(M, x) + Cphi\n",
    "\n",
    "# Define W as an integral of -phi\n",
    "W = sp.integrate(-phi, x) + Cw\n",
    "\n",
    "N1 = sp.integrate(sp.sin(theta) * (-qx1 + qz1), x) + Cn\n",
    "N2 = sp.integrate(sp.sin(alpha) * (-qx2 + qz2), x) \n",
    "N = N1+ N2 + Cn"
   ]
  },
  {
   "cell_type": "code",
   "execution_count": 18,
   "metadata": {},
   "outputs": [
    {
     "data": {
      "text/plain": [
       "{C_v: 0.0,\n",
       " C_m: 0.0,\n",
       " C_phi: 0.0,\n",
       " C_w: 0.0,\n",
       " A_v: 10.9850963259576,\n",
       " B_v: 8.99087340809321,\n",
       " M_A: 15.9483989566231,\n",
       " C_n: 0.0,\n",
       " A_h: 0.0420835912550643}"
      ]
     },
     "metadata": {},
     "output_type": "display_data"
    }
   ],
   "source": [
    "eq1 = V.subs(x, -1)\n",
    "eq2 = M.subs(x, -1)\n",
    "eq3 = V.subs(x, (3/2)*l + 1)\n",
    "eq4 = phi.subs(x, 0)\n",
    "eq5 = W.subs(x, 0)\n",
    "eq6 = M.subs(x, (3/2)*l)\n",
    "eq7 = W.subs(x, (3/2)*l)\n",
    "eq8 = N.subs(x, -0.01)\n",
    "eq9 = N.subs(x, ((3/2)*l) +1 )\n",
    "equations = [eq1-0, eq2-0, eq3-0, eq4-0, eq5-0, eq6-0, eq7 -0, eq8-0, eq9-0]\n",
    "solutions = sp.solve(equations, (Cv, Cm, Cphi, Cw, Av, Bv, MA, Cn, Ah))\n",
    "display(solutions)"
   ]
  },
  {
   "cell_type": "code",
   "execution_count": 19,
   "metadata": {},
   "outputs": [
    {
     "name": "stdout",
     "output_type": "stream",
     "text": [
      "[0.95313212 0.90259026]\n"
     ]
    },
    {
     "data": {
      "image/png": "[encoded data removed]",
      "text/plain": [
       "<Figure size 864x432 with 1 Axes>"
      ]
     },
     "metadata": {
      "needs_background": "light"
     },
     "output_type": "display_data"
    }
   ],
   "source": [
    "x_val = np.linspace(0, 3*l/2, 301)\n",
    "V_numpy = sp.lambdify(x,V.subs(solutions).rewrite(sp.Piecewise).simplify()) \n",
    "V_list = V_numpy(x_val)\n",
    "print(V_list[200:202]) \n",
    "\n",
    "fig = plt.figure(figsize=(12, 6))\n",
    "ax = fig.add_subplot(1, 1, 1)\n",
    "ax.set_xlim(0, 6)\n",
    "ax.set_ylim(-9, 12)\n",
    "\n",
    "ax.spines[\"left\"].set_position(\"zero\")\n",
    "ax.spines[\"right\"].set_visible(False)\n",
    "ax.spines[\"bottom\"].set_position(\"zero\")\n",
    "ax.spines[\"top\"].set_visible(False)\n",
    "\n",
    "ax.xaxis.set_label_coords(0.53, 1.04)\n",
    "plt.gca()\n",
    "ax.plot(x_val, np.array(V_list)); "
   ]
  },
  {
   "cell_type": "code",
   "execution_count": 20,
   "metadata": {},
   "outputs": [
    {
     "name": "stdout",
     "output_type": "stream",
     "text": [
      "[-0.24912772 -0.45129513]\n"
     ]
    },
    {
     "data": {
      "image/png": "[encoded data removed]",
      "text/plain": [
       "<Figure size 864x432 with 1 Axes>"
      ]
     },
     "metadata": {
      "needs_background": "light"
     },
     "output_type": "display_data"
    }
   ],
   "source": [
    "x_val = np.linspace(0, 3*l/2, 301)\n",
    "N_numpy = sp.lambdify(x,N.subs(solutions).rewrite(sp.Piecewise).simplify()) \n",
    "N_list = N_numpy(x_val)\n",
    "\n",
    "print(N_list[200:202])\n",
    "\n",
    "fig = plt.figure(figsize=(12, 6))\n",
    "ax = fig.add_subplot(1, 1, 1)\n",
    "ax.set_xlim(0, 6)\n",
    "ax.set_ylim(-4, 12)\n",
    "\n",
    "ax.spines[\"left\"].set_position(\"zero\")\n",
    "ax.spines[\"right\"].set_visible(False)\n",
    "ax.spines[\"bottom\"].set_position(\"zero\")\n",
    "ax.spines[\"top\"].set_visible(False)\n",
    "\n",
    "ax.xaxis.set_label_coords(0.53, 1.04)\n",
    "plt.gca()\n",
    "ax.plot(x_val, np.array(N_list));"
   ]
  },
  {
   "cell_type": "markdown",
   "metadata": {},
   "source": [
    "#### Iteratie 3"
   ]
  },
  {
   "cell_type": "code",
   "execution_count": 21,
   "metadata": {},
   "outputs": [],
   "source": [
    "Cv, Cm, Cphi, Cw, Av, Bv, MA, Ah, Cn= sp.symbols('C_v, C_m, C_phi, C_w, A_v, B_v, M_A, A_h, C_n')\n",
    "\n",
    "# Define qz and qx\n",
    "DwaL =  0.95313212\n",
    "DwaR =  0.90259026\n",
    "NorL = -0.24912772\n",
    "NorR = -0.45129513\n",
    "qz1 = sp.nsimplify(-Av * sf(x, 0, -1) + MA* sf(x, 0, -2) + F1 *sf(x, l/2, -1) + DwaL * sf(x, l, -1) * sp.cos(theta)- NorL * sf(x, l, -1) * sp.sin(theta))\n",
    "qz2 = sp.nsimplify(-Bv * sf(x, (3/2)*l, -1) + F2 *sf(x, (5/4)*l, -1) - DwaR *sf(x, l, -1)* sp.cos(alpha) + NorR * sf(x, l, -1)* sp.sin(alpha) )\n",
    "qx1 = sp.nsimplify(Ah * sf(x, 0, -1) + DwaL * sf(x, l, -1) * sp.sin(theta)  + NorL * sf(x, l, -1)* sp.cos(theta))\n",
    "qx2 = sp.nsimplify(-DwaR * sf(x, l, -1)*sp.sin(alpha) -NorR * sf(x, l, -1)* sp.cos(alpha))\n",
    "\n",
    "\n",
    "# Define V as a function of x\n",
    "## staaf 1\n",
    "V1 = sp.cos(theta) * sp.integrate( -qz1 , x)\n",
    "V2 = sp.integrate(- (sp.sin(theta) * sp.tan(theta) * qx1), x)\n",
    "## staaf 2\n",
    "V3 = sp.cos(alpha) * sp.integrate( -qz2 , x)\n",
    "V4 = sp.integrate(- (sp.sin(alpha) * sp.tan(alpha) * qx2), x)\n",
    "\n",
    "V =V1 + V2 + V3 + V4 + Cv\n",
    "\n",
    "# Define M as an integral of V\n",
    "## staaf 1\n",
    "M1 = sp.integrate( (V1  / sp.cos(theta)), x)\n",
    "M2 = sp.integrate( (V2  / sp.cos(theta)), x)\n",
    "## sfaaf 2\n",
    "M3 = sp.integrate((V3 / sp.cos(alpha)), x)\n",
    "M4 = sp.integrate((V4 / sp.cos(alpha)), x)\n",
    "M  = M1 + M2 + M3+ M4 + Cm\n",
    "\n",
    "# Define phi as an integral of M\n",
    "phi = sp.integrate(M, x) + Cphi\n",
    "\n",
    "# Define W as an integral of -phi\n",
    "W = sp.integrate(-phi, x) + Cw\n",
    "\n",
    "N1 = sp.integrate(sp.sin(theta) * (-qx1 + qz1), x) + Cn\n",
    "N2 = sp.integrate(sp.sin(alpha) * (-qx2 + qz2), x) \n",
    "N = N1+ N2 + Cn"
   ]
  },
  {
   "cell_type": "code",
   "execution_count": 22,
   "metadata": {},
   "outputs": [
    {
     "data": {
      "text/plain": [
       "{C_v: 0.0,\n",
       " C_m: 0.0,\n",
       " C_phi: 0.0,\n",
       " C_w: 0.0,\n",
       " A_v: 10.9840850145227,\n",
       " B_v: 8.99190939177049,\n",
       " M_A: 15.9502774939007,\n",
       " C_n: 0.0,\n",
       " A_h: 0.00962195189033341}"
      ]
     },
     "metadata": {},
     "output_type": "display_data"
    }
   ],
   "source": [
    "eq1 = V.subs(x, -1)\n",
    "eq2 = M.subs(x, -1)\n",
    "eq3 = V.subs(x, (3/2)*l + 1)\n",
    "eq4 = phi.subs(x, 0)\n",
    "eq5 = W.subs(x, 0)\n",
    "eq6 = M.subs(x, (3/2)*l)\n",
    "eq7 = W.subs(x, (3/2)*l)\n",
    "eq8 = N.subs(x, -0.01)\n",
    "eq9 = N.subs(x, ((3/2)*l) +1 )\n",
    "equations = [eq1-0, eq2-0, eq3-0, eq4-0, eq5-0, eq6-0, eq7 -0, eq8-0, eq9-0]\n",
    "solutions = sp.solve(equations, (Cv, Cm, Cphi, Cw, Av, Bv, MA, Cn, Ah))\n",
    "display(solutions)"
   ]
  },
  {
   "cell_type": "code",
   "execution_count": 23,
   "metadata": {},
   "outputs": [
    {
     "name": "stdout",
     "output_type": "stream",
     "text": [
      "[0.95411928 0.90166365]\n"
     ]
    },
    {
     "data": {
      "image/png": "[encoded data removed]",
      "text/plain": [
       "<Figure size 864x432 with 1 Axes>"
      ]
     },
     "metadata": {
      "needs_background": "light"
     },
     "output_type": "display_data"
    }
   ],
   "source": [
    "x_val = np.linspace(0, 3*l/2, 301)\n",
    "V_numpy = sp.lambdify(x,V.subs(solutions).rewrite(sp.Piecewise).simplify()) \n",
    "V_list = V_numpy(x_val)\n",
    "print(V_list[200:202]) \n",
    "\n",
    "fig = plt.figure(figsize=(12, 6))\n",
    "ax = fig.add_subplot(1, 1, 1)\n",
    "ax.set_xlim(0, 6)\n",
    "ax.set_ylim(-9, 12)\n",
    "\n",
    "ax.spines[\"left\"].set_position(\"zero\")\n",
    "ax.spines[\"right\"].set_visible(False)\n",
    "ax.spines[\"bottom\"].set_position(\"zero\")\n",
    "ax.spines[\"top\"].set_visible(False)\n",
    "\n",
    "ax.xaxis.set_label_coords(0.53, 1.04)\n",
    "plt.gca()\n",
    "ax.plot(x_val, np.array(V_list));"
   ]
  },
  {
   "cell_type": "code",
   "execution_count": 24,
   "metadata": {},
   "outputs": [
    {
     "name": "stdout",
     "output_type": "stream",
     "text": [
      "[-0.24100934 -0.45083183]\n"
     ]
    },
    {
     "data": {
      "image/png": "[encoded data removed]",
      "text/plain": [
       "<Figure size 864x432 with 1 Axes>"
      ]
     },
     "metadata": {
      "needs_background": "light"
     },
     "output_type": "display_data"
    }
   ],
   "source": [
    "x_val = np.linspace(0, 3*l/2, 301)\n",
    "N_numpy = sp.lambdify(x,N.subs(solutions).rewrite(sp.Piecewise).simplify()) \n",
    "N_list = N_numpy(x_val)\n",
    "\n",
    "print(N_list[200:202])\n",
    "\n",
    "fig = plt.figure(figsize=(12, 6))\n",
    "ax = fig.add_subplot(1, 1, 1)\n",
    "ax.set_xlim(0, 6)\n",
    "ax.set_ylim(-4, 12)\n",
    "\n",
    "ax.spines[\"left\"].set_position(\"zero\")\n",
    "ax.spines[\"right\"].set_visible(False)\n",
    "ax.spines[\"bottom\"].set_position(\"zero\")\n",
    "ax.spines[\"top\"].set_visible(False)\n",
    "\n",
    "ax.xaxis.set_label_coords(0.53, 1.04)\n",
    "plt.gca()\n",
    "ax.plot(x_val, np.array(N_list));"
   ]
  },
  {
   "cell_type": "markdown",
   "metadata": {},
   "source": [
    "#### Iteratie 4"
   ]
  },
  {
   "cell_type": "code",
   "execution_count": 25,
   "metadata": {},
   "outputs": [],
   "source": [
    "Cv, Cm, Cphi, Cw, Av, Bv, MA, Ah, Cn= sp.symbols('C_v, C_m, C_phi, C_w, A_v, B_v, M_A, A_h, C_n')\n",
    "\n",
    "# Define qz and qx\n",
    "DwaL =  0.95411928\n",
    "DwaR =  0.90166365\n",
    "NorL = -0.24100934\n",
    "NorR = -0.45083183\n",
    "qz1 = sp.nsimplify(-Av * sf(x, 0, -1) + MA* sf(x, 0, -2) + F1 *sf(x, l/2, -1) + DwaL * sf(x, l, -1) * sp.cos(theta)- NorL * sf(x, l, -1) * sp.sin(theta))\n",
    "qz2 = sp.nsimplify(-Bv * sf(x, (3/2)*l, -1) + F2 *sf(x, (5/4)*l, -1) - DwaR *sf(x, l, -1)* sp.cos(alpha) + NorR * sf(x, l, -1)* sp.sin(alpha) )\n",
    "qx1 = sp.nsimplify(Ah * sf(x, 0, -1) + DwaL * sf(x, l, -1) * sp.sin(theta)  + NorL * sf(x, l, -1)* sp.cos(theta))\n",
    "qx2 = sp.nsimplify(-DwaR * sf(x, l, -1)*sp.sin(alpha) -NorR * sf(x, l, -1)* sp.cos(alpha))\n",
    "\n",
    "\n",
    "# Define V as a function of x\n",
    "## staaf 1\n",
    "V1 = sp.cos(theta) * sp.integrate( -qz1 , x)\n",
    "V2 = sp.integrate(- (sp.sin(theta) * sp.tan(theta) * qx1), x)\n",
    "## staaf 2\n",
    "V3 = sp.cos(alpha) * sp.integrate( -qz2 , x)\n",
    "V4 = sp.integrate(- (sp.sin(alpha) * sp.tan(alpha) * qx2), x)\n",
    "\n",
    "V =V1 + V2 + V3 + V4 + Cv\n",
    "\n",
    "# Define M as an integral of V\n",
    "## staaf 1\n",
    "M1 = sp.integrate( (V1  / sp.cos(theta)), x)\n",
    "M2 = sp.integrate( (V2  / sp.cos(theta)), x)\n",
    "## sfaaf 2\n",
    "M3 = sp.integrate((V3 / sp.cos(alpha)), x)\n",
    "M4 = sp.integrate((V4 / sp.cos(alpha)), x)\n",
    "M  = M1 + M2 + M3+ M4 + Cm\n",
    "\n",
    "# Define phi as an integral of M\n",
    "phi = sp.integrate(M, x) + Cphi\n",
    "\n",
    "# Define W as an integral of -phi\n",
    "W = sp.integrate(-phi, x) + Cw\n",
    "\n",
    "N1 = sp.integrate(sp.sin(theta) * (-qx1 + qz1), x) + Cn\n",
    "N2 = sp.integrate(sp.sin(alpha) * (-qx2 + qz2), x) \n",
    "N = N1 + N2 + Cn"
   ]
  },
  {
   "cell_type": "code",
   "execution_count": 26,
   "metadata": {},
   "outputs": [
    {
     "data": {
      "text/plain": [
       "{C_v: 0.0,\n",
       " C_m: 0.0,\n",
       " C_phi: 0.0,\n",
       " C_w: 0.0,\n",
       " A_v: 10.9838786097141,\n",
       " B_v: 8.99212083108564,\n",
       " M_A: 15.9507502786053,\n",
       " C_n: 0.0,\n",
       " A_h: 0.00222200751313955}"
      ]
     },
     "metadata": {},
     "output_type": "display_data"
    }
   ],
   "source": [
    "eq1 = V.subs(x, -1)\n",
    "eq2 = M.subs(x, -1)\n",
    "eq3 = V.subs(x, (3/2)*l + 1)\n",
    "eq4 = phi.subs(x, 0)\n",
    "eq5 = W.subs(x, 0)\n",
    "eq6 = M.subs(x, (3/2)*l)\n",
    "eq7 = W.subs(x, (3/2)*l)\n",
    "eq8 = N.subs(x, -0.01)\n",
    "eq9 = N.subs(x, ((3/2)*l) +1 )\n",
    "equations = [eq1-0, eq2-0, eq3-0, eq4-0, eq5-0, eq6-0, eq7 -0, eq8-0, eq9-0]\n",
    "solutions = sp.solve(equations, (Cv, Cm, Cphi, Cw, Av, Bv, MA, Cn, Ah))\n",
    "display(solutions)"
   ]
  },
  {
   "cell_type": "code",
   "execution_count": 27,
   "metadata": {},
   "outputs": [
    {
     "name": "stdout",
     "output_type": "stream",
     "text": [
      "[0.95436773 0.90147453]\n"
     ]
    },
    {
     "data": {
      "image/png": "[encoded data removed]",
      "text/plain": [
       "<Figure size 864x432 with 1 Axes>"
      ]
     },
     "metadata": {
      "needs_background": "light"
     },
     "output_type": "display_data"
    }
   ],
   "source": [
    "x_val = np.linspace(0, 3*l/2, 301)\n",
    "V_numpy = sp.lambdify(x,V.subs(solutions).rewrite(sp.Piecewise).simplify()) \n",
    "V_list = V_numpy(x_val)\n",
    "print(V_list[200:202]) \n",
    "\n",
    "fig = plt.figure(figsize=(12, 6))\n",
    "ax = fig.add_subplot(1, 1, 1)\n",
    "ax.set_xlim(0, 6)\n",
    "ax.set_ylim(-9, 12)\n",
    "\n",
    "ax.spines[\"left\"].set_position(\"zero\")\n",
    "ax.spines[\"right\"].set_visible(False)\n",
    "ax.spines[\"bottom\"].set_position(\"zero\")\n",
    "ax.spines[\"top\"].set_visible(False)\n",
    "\n",
    "ax.xaxis.set_label_coords(0.53, 1.04)\n",
    "plt.gca()\n",
    "ax.plot(x_val, np.array(V_list)); "
   ]
  },
  {
   "cell_type": "code",
   "execution_count": 28,
   "metadata": {},
   "outputs": [
    {
     "name": "stdout",
     "output_type": "stream",
     "text": [
      "[-0.23916453 -0.45073727]\n"
     ]
    },
    {
     "data": {
      "image/png": "[encoded data removed]",
      "text/plain": [
       "<Figure size 864x432 with 1 Axes>"
      ]
     },
     "metadata": {
      "needs_background": "light"
     },
     "output_type": "display_data"
    }
   ],
   "source": [
    "x_val = np.linspace(0, 3*l/2, 301)\n",
    "N_numpy = sp.lambdify(x,N.subs(solutions).rewrite(sp.Piecewise).simplify()) \n",
    "N_list = N_numpy(x_val)\n",
    "\n",
    "print(N_list[200:202])\n",
    "\n",
    "fig = plt.figure(figsize=(12, 6))\n",
    "ax = fig.add_subplot(1, 1, 1)\n",
    "ax.set_xlim(0, 6)\n",
    "ax.set_ylim(-4, 12)\n",
    "\n",
    "ax.spines[\"left\"].set_position(\"zero\")\n",
    "ax.spines[\"right\"].set_visible(False)\n",
    "ax.spines[\"bottom\"].set_position(\"zero\")\n",
    "ax.spines[\"top\"].set_visible(False)\n",
    "\n",
    "ax.xaxis.set_label_coords(0.53, 1.04)\n",
    "plt.gca()\n",
    "ax.plot(x_val, np.array(N_list));"
   ]
  },
  {
   "cell_type": "markdown",
   "metadata": {},
   "source": [
    "#### Iteratie 5"
   ]
  },
  {
   "cell_type": "code",
   "execution_count": 29,
   "metadata": {},
   "outputs": [],
   "source": [
    "Cv, Cm, Cphi, Cw, Av, Bv, MA, Ah, Cn= sp.symbols('C_v, C_m, C_phi, C_w, A_v, B_v, M_A, A_h, C_n')\n",
    "\n",
    "# Define qz and qx\n",
    "DwaL =  0.95436773\n",
    "DwaR =  0.90147453\n",
    "NorL = -0.23916453\n",
    "NorR = -0.45073727\n",
    "qz1 = sp.nsimplify(-Av * sf(x, 0, -1) + MA* sf(x, 0, -2) + F1 *sf(x, l/2, -1) + DwaL * sf(x, l, -1) * sp.cos(theta)- NorL * sf(x, l, -1) * sp.sin(theta))\n",
    "qz2 = sp.nsimplify(-Bv * sf(x, (3/2)*l, -1) + F2 *sf(x, (5/4)*l, -1) - DwaR *sf(x, l, -1)* sp.cos(alpha) + NorR * sf(x, l, -1)* sp.sin(alpha) )\n",
    "qx1 = sp.nsimplify(Ah * sf(x, 0, -1) + DwaL * sf(x, l, -1) * sp.sin(theta)  + NorL * sf(x, l, -1)* sp.cos(theta))\n",
    "qx2 = sp.nsimplify(-DwaR * sf(x, l, -1)*sp.sin(alpha) -NorR * sf(x, l, -1)* sp.cos(alpha))\n",
    "\n",
    "\n",
    "# Define V as a function of x\n",
    "## staaf 1\n",
    "V1 = sp.cos(theta) * sp.integrate( -qz1 , x)\n",
    "V2 = sp.integrate(- (sp.sin(theta) * sp.tan(theta) * qx1), x)\n",
    "## staaf 2\n",
    "V3 = sp.cos(alpha) * sp.integrate( -qz2 , x)\n",
    "V4 = sp.integrate(- (sp.sin(alpha) * sp.tan(alpha) * qx2), x)\n",
    "\n",
    "V =V1 + V2 + V3 + V4 + Cv\n",
    "\n",
    "# Define M as an integral of V\n",
    "## staaf 1\n",
    "M1 = sp.integrate( (V1  / sp.cos(theta)), x)\n",
    "M2 = sp.integrate( (V2  / sp.cos(theta)), x)\n",
    "## sfaaf 2\n",
    "M3 = sp.integrate((V3 / sp.cos(alpha)), x)\n",
    "M4 = sp.integrate((V4 / sp.cos(alpha)), x)\n",
    "M  = M1 + M2 + M3+ M4 + Cm\n",
    "\n",
    "# Define phi as an integral of M\n",
    "phi = sp.integrate(M, x) + Cphi\n",
    "\n",
    "# Define W as an integral of -phi\n",
    "W = sp.integrate(-phi, x) + Cw\n",
    "\n",
    "N1 = sp.integrate(sp.sin(theta) * (-qx1 + qz1), x) + Cn\n",
    "N2 = sp.integrate(sp.sin(alpha) * (-qx2 + qz2), x) \n",
    "N = N1 + N2 + Cn"
   ]
  },
  {
   "cell_type": "code",
   "execution_count": 30,
   "metadata": {},
   "outputs": [
    {
     "data": {
      "text/plain": [
       "{C_v: 0.0,\n",
       " C_m: 0.0,\n",
       " C_phi: 0.0,\n",
       " C_w: 0.0,\n",
       " A_v: 10.9838298415814,\n",
       " B_v: 8.99217079631337,\n",
       " M_A: 15.9508575377216,\n",
       " C_n: 0.0,\n",
       " A_h: 0.000512138382148610}"
      ]
     },
     "metadata": {},
     "output_type": "display_data"
    }
   ],
   "source": [
    "eq1 = V.subs(x, -1)\n",
    "eq2 = M.subs(x, -1)\n",
    "eq3 = V.subs(x, (3/2)*l + 1)\n",
    "eq4 = phi.subs(x, 0)\n",
    "eq5 = W.subs(x, 0)\n",
    "eq6 = M.subs(x, (3/2)*l)\n",
    "eq7 = W.subs(x, (3/2)*l)\n",
    "eq8 = N.subs(x, -0.01)\n",
    "eq9 = N.subs(x, ((3/2)*l) +1 )\n",
    "equations = [eq1-0, eq2-0, eq3-0, eq4-0, eq5-0, eq6-0, eq7 -0, eq8-0, eq9-0]\n",
    "solutions = sp.solve(equations, (Cv, Cm, Cphi, Cw, Av, Bv, MA, Cn, Ah))\n",
    "display(solutions)"
   ]
  },
  {
   "cell_type": "code",
   "execution_count": 31,
   "metadata": {},
   "outputs": [
    {
     "name": "stdout",
     "output_type": "stream",
     "text": [
      "[0.95442409 0.90142984]\n"
     ]
    },
    {
     "data": {
      "image/png": "[encoded data removed]",
      "text/plain": [
       "<Figure size 864x432 with 1 Axes>"
      ]
     },
     "metadata": {
      "needs_background": "light"
     },
     "output_type": "display_data"
    }
   ],
   "source": [
    "x_val = np.linspace(0, 3*l/2, 301)\n",
    "V_numpy = sp.lambdify(x,V.subs(solutions).rewrite(sp.Piecewise).simplify()) \n",
    "V_list = V_numpy(x_val)\n",
    "print(V_list[200:202]) \n",
    "\n",
    "fig = plt.figure(figsize=(12, 6))\n",
    "ax = fig.add_subplot(1, 1, 1)\n",
    "ax.set_xlim(0, 6)\n",
    "ax.set_ylim(-9, 12)\n",
    "ax.set_xlabel(\"$V-lijn$\")\n",
    "ax.spines[\"left\"].set_position(\"zero\")\n",
    "ax.spines[\"right\"].set_visible(False)\n",
    "ax.spines[\"bottom\"].set_position(\"zero\")\n",
    "ax.spines[\"top\"].set_visible(False)\n",
    "\n",
    "ax.xaxis.set_label_coords(0.53, 1.04)\n",
    "plt.gca()\n",
    "ax.plot(x_val, np.array(V_list))\n",
    "plt.savefig('V_lijnvoorbeeld4', dpi=450);"
   ]
  },
  {
   "cell_type": "code",
   "execution_count": 32,
   "metadata": {},
   "outputs": [
    {
     "name": "stdout",
     "output_type": "stream",
     "text": [
      "[-0.238738   -0.45071492]\n"
     ]
    },
    {
     "data": {
      "image/png": "[encoded data removed]",
      "text/plain": [
       "<Figure size 864x432 with 1 Axes>"
      ]
     },
     "metadata": {
      "needs_background": "light"
     },
     "output_type": "display_data"
    }
   ],
   "source": [
    "x_val = np.linspace(0, 3*l/2, 301)\n",
    "N_numpy = sp.lambdify(x,N.subs(solutions).rewrite(sp.Piecewise).simplify()) \n",
    "N_list = N_numpy(x_val)\n",
    "\n",
    "print(N_list[200:202])\n",
    "\n",
    "fig = plt.figure(figsize=(12, 6))\n",
    "ax = fig.add_subplot(1, 1, 1)\n",
    "ax.set_xlim(0, 6)\n",
    "ax.set_ylim(-4, 12)\n",
    "ax.set_xlabel(\"$N-lijn$\")\n",
    "ax.spines[\"left\"].set_position(\"zero\")\n",
    "ax.spines[\"right\"].set_visible(False)\n",
    "ax.spines[\"bottom\"].set_position(\"zero\")\n",
    "ax.spines[\"top\"].set_visible(False)\n",
    "\n",
    "ax.xaxis.set_label_coords(0.53, 1.04)\n",
    "plt.gca()\n",
    "ax.plot(x_val, np.array(N_list))\n",
    "plt.savefig('N_lijnvoorbeeld4', dpi=450);"
   ]
  },
  {
   "cell_type": "code",
   "execution_count": 33,
   "metadata": {},
   "outputs": [],
   "source": [
    "x_val1 = np.linspace(0, l, 301)\n",
    "M_numpy1 = sp.lambdify(x,M.subs(solutions).rewrite(sp.Piecewise).simplify()) \n",
    "M_list1 = M_numpy1(x_val1)\n",
    "\n",
    "x_val2 = np.linspace(l, 3*l/2, 301)\n",
    "M_numpy2 = sp.lambdify(x,M.subs(solutions).rewrite(sp.Piecewise).simplify()) \n",
    "M_list2 = M_numpy2(x_val2)"
   ]
  },
  {
   "cell_type": "code",
   "execution_count": 34,
   "metadata": {},
   "outputs": [
    {
     "data": {
      "text/plain": [
       "''"
      ]
     },
     "execution_count": 34,
     "metadata": {},
     "output_type": "execute_result"
    },
    {
     "data": {
      "image/png": "[encoded data removed]",
      "text/plain": [
       "<Figure size 720x360 with 1 Axes>"
      ]
     },
     "metadata": {
      "needs_background": "light"
     },
     "output_type": "display_data"
    }
   ],
   "source": [
    "fig = plt.figure(figsize=(10, 5))\n",
    "ax = fig.add_subplot(1, 1, 1)\n",
    "ax.set_xlim(0, 6.8)\n",
    "ax.set_ylim(-12, 16)\n",
    "\n",
    "ax.spines[\"left\"].set_position(\"zero\")\n",
    "ax.spines[\"right\"].set_visible(False)\n",
    "ax.spines[\"bottom\"].set_position(\"zero\")\n",
    "ax.spines[\"top\"].set_visible(False)\n",
    "\n",
    "\n",
    "ax.set_xlabel(\"$M-lijn$\")\n",
    "ax.xaxis.set_label_coords(0.53, 1.04)\n",
    "plt.gca()\n",
    "ax.plot(x_val1,  -np.array(M_list1) , label='M-lijn')\n",
    "ax.plot(x_val2,  -np.array(M_list2) , label='M-lijn');\n",
    "plt.savefig('M_lijnvoorbeeld4', dpi=450)\n",
    ";"
   ]
  },
  {
   "cell_type": "code",
   "execution_count": 35,
   "metadata": {},
   "outputs": [],
   "source": [
    "x_val = np.linspace(0, 3*l/2, 901)\n",
    "phi_numpy = sp.lambdify(x,phi.subs(solutions).rewrite(sp.Piecewise).simplify()) #substitute full solution, make python function of formula\n",
    "phi_list = phi_numpy(x_val)"
   ]
  },
  {
   "cell_type": "code",
   "execution_count": 36,
   "metadata": {},
   "outputs": [
    {
     "data": {
      "image/png": "[encoded data removed]",
      "text/plain": [
       "<Figure size 720x360 with 1 Axes>"
      ]
     },
     "metadata": {
      "needs_background": "light"
     },
     "output_type": "display_data"
    }
   ],
   "source": [
    "fig = plt.figure(figsize=(10, 5))\n",
    "ax = fig.add_subplot(1, 1, 1)\n",
    "ax.set_xlim(0, 6)\n",
    "ax.set_ylim(-15, 20)\n",
    "\n",
    "ax.spines[\"left\"].set_position(\"zero\")\n",
    "ax.spines[\"right\"].set_visible(False)\n",
    "ax.spines[\"bottom\"].set_position(\"zero\")\n",
    "ax.spines[\"top\"].set_visible(False)\n",
    "\n",
    "\n",
    "ax.set_xlabel(\"$phi*EI-lijn$\")\n",
    "ax.xaxis.set_label_coords(0.53, 1.04)\n",
    "plt.gca()\n",
    "ax.plot(x_val/sp.cos(theta), np.array(phi_list) , label='phi-lijn')\n",
    "plt.savefig('phi_lijnvoorbeeld4', dpi=450);"
   ]
  },
  {
   "cell_type": "code",
   "execution_count": 37,
   "metadata": {},
   "outputs": [],
   "source": [
    "x_val = np.linspace(0, 3*l/2, 901)\n",
    "W_numpy = sp.lambdify(x,W.subs(solutions).rewrite(sp.Piecewise).simplify())\n",
    "W_list = W_numpy(x_val)"
   ]
  },
  {
   "cell_type": "code",
   "execution_count": 38,
   "metadata": {},
   "outputs": [
    {
     "data": {
      "image/png": "[encoded data removed]",
      "text/plain": [
       "<Figure size 720x360 with 1 Axes>"
      ]
     },
     "metadata": {
      "needs_background": "light"
     },
     "output_type": "display_data"
    }
   ],
   "source": [
    "fig = plt.figure(figsize=(10, 5))\n",
    "ax = fig.add_subplot(1, 1, 1)\n",
    "ax.set_xlim(0, 6.5)\n",
    "ax.set_ylim(-30, 0)\n",
    "\n",
    "ax.spines[\"left\"].set_position(\"zero\")\n",
    "ax.spines[\"right\"].set_visible(False)\n",
    "ax.spines[\"bottom\"].set_position(\"zero\")\n",
    "ax.spines[\"top\"].set_visible(False)\n",
    "\n",
    "\n",
    "ax.set_xlabel(\"$EI * w-lijn$\")\n",
    "ax.xaxis.set_label_coords(0.53, 1.04)\n",
    "plt.gca()\n",
    "ax.plot(x_val, - np.array(W_list) , label='w-lijn')\n",
    "plt.savefig('w_lijnvoorbeeld4', dpi=450);"
   ]
  },
  {
   "cell_type": "code",
   "execution_count": null,
   "metadata": {},
   "outputs": [],
   "source": []
  }
 ],
 "metadata": {
  "kernelspec": {
   "display_name": "Python 3",
   "language": "python",
   "name": "python3"
  },
  "language_info": {
   "codemirror_mode": {
    "name": "ipython",
    "version": 3
   },
   "file_extension": ".py",
   "mimetype": "text/x-python",
   "name": "python",
   "nbconvert_exporter": "python",
   "pygments_lexer": "ipython3",
   "version": "3.8.3"
  }
 },
 "nbformat": 4,
 "nbformat_minor": 4
}
